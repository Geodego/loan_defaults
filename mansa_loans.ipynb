{
 "cells": [
  {
   "cell_type": "markdown",
   "id": "1ee54a1c",
   "metadata": {},
   "source": [
    "# Mansa loans"
   ]
  },
  {
   "cell_type": "markdown",
   "id": "cfdd1d4e",
   "metadata": {},
   "source": [
    "## EDA"
   ]
  },
  {
   "cell_type": "markdown",
   "id": "bba4252d",
   "metadata": {},
   "source": [
    "We start by performing an EDA of the datasets."
   ]
  },
  {
   "cell_type": "code",
   "execution_count": 1,
   "id": "775cb7c2",
   "metadata": {},
   "outputs": [],
   "source": [
    "import pandas as pd\n",
    "from src.data_tools import get_data"
   ]
  },
  {
   "cell_type": "code",
   "execution_count": 2,
   "id": "e1e80ab3",
   "metadata": {},
   "outputs": [],
   "source": [
    "# read the csv files\n",
    "df_accounts = get_data(\"data/accounts.csv\")\n",
    "df_transactions = get_data(\"data/transactions.csv\")"
   ]
  },
  {
   "cell_type": "code",
   "execution_count": 3,
   "id": "5c8ef0c5",
   "metadata": {},
   "outputs": [
    {
     "data": {
      "text/html": [
       "<div>\n",
       "<style scoped>\n",
       "    .dataframe tbody tr th:only-of-type {\n",
       "        vertical-align: middle;\n",
       "    }\n",
       "\n",
       "    .dataframe tbody tr th {\n",
       "        vertical-align: top;\n",
       "    }\n",
       "\n",
       "    .dataframe thead th {\n",
       "        text-align: right;\n",
       "    }\n",
       "</style>\n",
       "<table border=\"1\" class=\"dataframe\">\n",
       "  <thead>\n",
       "    <tr style=\"text-align: right;\">\n",
       "      <th></th>\n",
       "      <th>id</th>\n",
       "      <th>balance</th>\n",
       "      <th>update_date</th>\n",
       "    </tr>\n",
       "  </thead>\n",
       "  <tbody>\n",
       "    <tr>\n",
       "      <th>0</th>\n",
       "      <td>0</td>\n",
       "      <td>13.63</td>\n",
       "      <td>2021-07-02</td>\n",
       "    </tr>\n",
       "    <tr>\n",
       "      <th>1</th>\n",
       "      <td>1</td>\n",
       "      <td>12.91</td>\n",
       "      <td>2021-07-02</td>\n",
       "    </tr>\n",
       "    <tr>\n",
       "      <th>2</th>\n",
       "      <td>2</td>\n",
       "      <td>19.84</td>\n",
       "      <td>2021-07-02</td>\n",
       "    </tr>\n",
       "    <tr>\n",
       "      <th>3</th>\n",
       "      <td>3</td>\n",
       "      <td>130.00</td>\n",
       "      <td>2021-07-02</td>\n",
       "    </tr>\n",
       "    <tr>\n",
       "      <th>4</th>\n",
       "      <td>4</td>\n",
       "      <td>2806.75</td>\n",
       "      <td>2021-07-02</td>\n",
       "    </tr>\n",
       "  </tbody>\n",
       "</table>\n",
       "</div>"
      ],
      "text/plain": [
       "   id  balance update_date\n",
       "0   0    13.63  2021-07-02\n",
       "1   1    12.91  2021-07-02\n",
       "2   2    19.84  2021-07-02\n",
       "3   3   130.00  2021-07-02\n",
       "4   4  2806.75  2021-07-02"
      ]
     },
     "execution_count": 3,
     "metadata": {},
     "output_type": "execute_result"
    }
   ],
   "source": [
    "df_accounts.head()"
   ]
  },
  {
   "cell_type": "code",
   "execution_count": 4,
   "id": "d31475fa",
   "metadata": {},
   "outputs": [
    {
     "data": {
      "text/html": [
       "<div>\n",
       "<style scoped>\n",
       "    .dataframe tbody tr th:only-of-type {\n",
       "        vertical-align: middle;\n",
       "    }\n",
       "\n",
       "    .dataframe tbody tr th {\n",
       "        vertical-align: top;\n",
       "    }\n",
       "\n",
       "    .dataframe thead th {\n",
       "        text-align: right;\n",
       "    }\n",
       "</style>\n",
       "<table border=\"1\" class=\"dataframe\">\n",
       "  <thead>\n",
       "    <tr style=\"text-align: right;\">\n",
       "      <th></th>\n",
       "      <th>account_id</th>\n",
       "      <th>date</th>\n",
       "      <th>amount</th>\n",
       "    </tr>\n",
       "  </thead>\n",
       "  <tbody>\n",
       "    <tr>\n",
       "      <th>0</th>\n",
       "      <td>0</td>\n",
       "      <td>2020-10-16</td>\n",
       "      <td>200.0</td>\n",
       "    </tr>\n",
       "    <tr>\n",
       "      <th>1</th>\n",
       "      <td>0</td>\n",
       "      <td>2020-10-16</td>\n",
       "      <td>-192.0</td>\n",
       "    </tr>\n",
       "    <tr>\n",
       "      <th>2</th>\n",
       "      <td>0</td>\n",
       "      <td>2020-10-16</td>\n",
       "      <td>200.0</td>\n",
       "    </tr>\n",
       "    <tr>\n",
       "      <th>3</th>\n",
       "      <td>0</td>\n",
       "      <td>2020-10-16</td>\n",
       "      <td>-24.0</td>\n",
       "    </tr>\n",
       "    <tr>\n",
       "      <th>4</th>\n",
       "      <td>0</td>\n",
       "      <td>2020-10-16</td>\n",
       "      <td>-50.0</td>\n",
       "    </tr>\n",
       "  </tbody>\n",
       "</table>\n",
       "</div>"
      ],
      "text/plain": [
       "   account_id       date  amount\n",
       "0           0 2020-10-16   200.0\n",
       "1           0 2020-10-16  -192.0\n",
       "2           0 2020-10-16   200.0\n",
       "3           0 2020-10-16   -24.0\n",
       "4           0 2020-10-16   -50.0"
      ]
     },
     "execution_count": 4,
     "metadata": {},
     "output_type": "execute_result"
    }
   ],
   "source": [
    "df_transactions.head()"
   ]
  },
  {
   "cell_type": "markdown",
   "id": "9519cc7f",
   "metadata": {},
   "source": [
    "#### Checking for null values"
   ]
  },
  {
   "cell_type": "code",
   "execution_count": 5,
   "id": "f944d3e9",
   "metadata": {},
   "outputs": [
    {
     "data": {
      "text/plain": [
       "id             False\n",
       "balance        False\n",
       "update_date    False\n",
       "dtype: bool"
      ]
     },
     "execution_count": 5,
     "metadata": {},
     "output_type": "execute_result"
    }
   ],
   "source": [
    "df_accounts.isna().any()"
   ]
  },
  {
   "cell_type": "code",
   "execution_count": 6,
   "id": "832d595b",
   "metadata": {},
   "outputs": [
    {
     "data": {
      "text/plain": [
       "account_id    False\n",
       "date          False\n",
       "amount        False\n",
       "dtype: bool"
      ]
     },
     "execution_count": 6,
     "metadata": {},
     "output_type": "execute_result"
    }
   ],
   "source": [
    "df_transactions.isna().any()"
   ]
  },
  {
   "cell_type": "markdown",
   "id": "2e9cd40d",
   "metadata": {},
   "source": [
    "There is no null value in any of the two datasets.\n"
   ]
  },
  {
   "cell_type": "markdown",
   "id": "45a37a15",
   "metadata": {},
   "source": [
    "#### Checking for duplicates"
   ]
  },
  {
   "cell_type": "code",
   "execution_count": 7,
   "id": "5439231a",
   "metadata": {},
   "outputs": [
    {
     "data": {
      "text/plain": [
       "False"
      ]
     },
     "execution_count": 7,
     "metadata": {},
     "output_type": "execute_result"
    }
   ],
   "source": [
    "df_accounts.duplicated().any()"
   ]
  },
  {
   "cell_type": "code",
   "execution_count": 8,
   "id": "cf215737",
   "metadata": {},
   "outputs": [
    {
     "data": {
      "text/plain": [
       "True"
      ]
     },
     "execution_count": 8,
     "metadata": {},
     "output_type": "execute_result"
    }
   ],
   "source": [
    "df_transactions.duplicated().any()"
   ]
  },
  {
   "cell_type": "markdown",
   "id": "3ad6cc5b",
   "metadata": {},
   "source": [
    "There are duplicates in the transactions. Lets look at some of them"
   ]
  },
  {
   "cell_type": "code",
   "execution_count": 9,
   "id": "403fd8ae",
   "metadata": {},
   "outputs": [
    {
     "name": "stdout",
     "output_type": "stream",
     "text": [
      "there are 28661 duplicates in transactions.csv, representing 5% of the data.\n"
     ]
    }
   ],
   "source": [
    "n_duplicated = df_transactions.duplicated().sum()\n",
    "dup_percent = int(n_duplicated / df_transactions.shape[0]*100)\n",
    "print(f'there are {n_duplicated} duplicates in transactions.csv, representing {dup_percent}% of the data.')"
   ]
  },
  {
   "cell_type": "code",
   "execution_count": 10,
   "id": "7567b882",
   "metadata": {},
   "outputs": [
    {
     "data": {
      "text/html": [
       "<div>\n",
       "<style scoped>\n",
       "    .dataframe tbody tr th:only-of-type {\n",
       "        vertical-align: middle;\n",
       "    }\n",
       "\n",
       "    .dataframe tbody tr th {\n",
       "        vertical-align: top;\n",
       "    }\n",
       "\n",
       "    .dataframe thead th {\n",
       "        text-align: right;\n",
       "    }\n",
       "</style>\n",
       "<table border=\"1\" class=\"dataframe\">\n",
       "  <thead>\n",
       "    <tr style=\"text-align: right;\">\n",
       "      <th></th>\n",
       "      <th>account_id</th>\n",
       "      <th>date</th>\n",
       "      <th>amount</th>\n",
       "    </tr>\n",
       "  </thead>\n",
       "  <tbody>\n",
       "    <tr>\n",
       "      <th>2</th>\n",
       "      <td>0</td>\n",
       "      <td>2020-10-16</td>\n",
       "      <td>200.0</td>\n",
       "    </tr>\n",
       "    <tr>\n",
       "      <th>11</th>\n",
       "      <td>0</td>\n",
       "      <td>2020-10-17</td>\n",
       "      <td>0.0</td>\n",
       "    </tr>\n",
       "    <tr>\n",
       "      <th>14</th>\n",
       "      <td>0</td>\n",
       "      <td>2020-10-19</td>\n",
       "      <td>0.0</td>\n",
       "    </tr>\n",
       "    <tr>\n",
       "      <th>23</th>\n",
       "      <td>0</td>\n",
       "      <td>2020-10-21</td>\n",
       "      <td>0.0</td>\n",
       "    </tr>\n",
       "    <tr>\n",
       "      <th>45</th>\n",
       "      <td>0</td>\n",
       "      <td>2020-10-29</td>\n",
       "      <td>-5.5</td>\n",
       "    </tr>\n",
       "  </tbody>\n",
       "</table>\n",
       "</div>"
      ],
      "text/plain": [
       "    account_id       date  amount\n",
       "2            0 2020-10-16   200.0\n",
       "11           0 2020-10-17     0.0\n",
       "14           0 2020-10-19     0.0\n",
       "23           0 2020-10-21     0.0\n",
       "45           0 2020-10-29    -5.5"
      ]
     },
     "execution_count": 10,
     "metadata": {},
     "output_type": "execute_result"
    }
   ],
   "source": [
    "df_dup = df_transactions[df_transactions.duplicated()]\n",
    "df_dup.head()"
   ]
  },
  {
   "cell_type": "code",
   "execution_count": 11,
   "id": "16153070",
   "metadata": {},
   "outputs": [
    {
     "data": {
      "text/html": [
       "<div>\n",
       "<style scoped>\n",
       "    .dataframe tbody tr th:only-of-type {\n",
       "        vertical-align: middle;\n",
       "    }\n",
       "\n",
       "    .dataframe tbody tr th {\n",
       "        vertical-align: top;\n",
       "    }\n",
       "\n",
       "    .dataframe thead th {\n",
       "        text-align: right;\n",
       "    }\n",
       "</style>\n",
       "<table border=\"1\" class=\"dataframe\">\n",
       "  <thead>\n",
       "    <tr style=\"text-align: right;\">\n",
       "      <th></th>\n",
       "      <th>account_id</th>\n",
       "      <th>date</th>\n",
       "      <th>amount</th>\n",
       "    </tr>\n",
       "  </thead>\n",
       "  <tbody>\n",
       "    <tr>\n",
       "      <th>0</th>\n",
       "      <td>0</td>\n",
       "      <td>2020-10-16</td>\n",
       "      <td>200.0</td>\n",
       "    </tr>\n",
       "    <tr>\n",
       "      <th>2</th>\n",
       "      <td>0</td>\n",
       "      <td>2020-10-16</td>\n",
       "      <td>200.0</td>\n",
       "    </tr>\n",
       "  </tbody>\n",
       "</table>\n",
       "</div>"
      ],
      "text/plain": [
       "   account_id       date  amount\n",
       "0           0 2020-10-16   200.0\n",
       "2           0 2020-10-16   200.0"
      ]
     },
     "execution_count": 11,
     "metadata": {},
     "output_type": "execute_result"
    }
   ],
   "source": [
    "df_transactions[\n",
    "    (df_transactions.account_id == 0) \n",
    "    & (df_transactions.date == '2020-10-16') \n",
    "    &(df_transactions.amount == 200.0)]"
   ]
  },
  {
   "cell_type": "markdown",
   "id": "417f5e4c",
   "metadata": {},
   "source": [
    "It is difficult, without further information if the above transactions are legitimate siilar transactions or duplicates coming from an error when the data were processed. We decide to keep these duplicates. It would be interesting to enrich the transactions data with a transaction id. We could be certain if a similar transaction on a given account and a given date is a duplicate or legitimate."
   ]
  },
  {
   "cell_type": "markdown",
   "id": "ea8d4bf4",
   "metadata": {},
   "source": [
    "#### Account history distribution"
   ]
  },
  {
   "cell_type": "markdown",
   "id": "f8d4921f",
   "metadata": {},
   "source": [
    "Let's check the history distribution of the different accounts in our data."
   ]
  },
  {
   "cell_type": "code",
   "execution_count": 12,
   "id": "f77054fd",
   "metadata": {},
   "outputs": [],
   "source": [
    "# we change the date column from str to datetime\n",
    "df_transactions['date'] = pd.to_datetime(df_transactions['date'])\n",
    "group = df_transactions.groupby('account_id')['date']"
   ]
  },
  {
   "cell_type": "code",
   "execution_count": 13,
   "id": "aeef24cd",
   "metadata": {},
   "outputs": [
    {
     "data": {
      "text/plain": [
       "account_id\n",
       "0   257 days\n",
       "1   231 days\n",
       "2   100 days\n",
       "3   176 days\n",
       "4   293 days\n",
       "dtype: timedelta64[ns]"
      ]
     },
     "execution_count": 13,
     "metadata": {},
     "output_type": "execute_result"
    }
   ],
   "source": [
    "history_df = group.agg([\"min\", \"max\"])\n",
    "history = history_df['max'] - history_df['min']\n",
    "history.head()"
   ]
  },
  {
   "cell_type": "code",
   "execution_count": 14,
   "id": "bd413a22",
   "metadata": {},
   "outputs": [
    {
     "name": "stdout",
     "output_type": "stream",
     "text": [
      "823 accounts, which represent 65% of all the accounts, have an history of more than 6 months\n"
     ]
    }
   ],
   "source": [
    "trigger = pd.Timedelta(180, \"d\")\n",
    "n_accounts = (history > trigger).sum()\n",
    "frac_long_account = int(n_accounts / len(history) * 100)\n",
    "print(f'{n_accounts} accounts, which represent {frac_long_account}% of all the accounts, have an history of more than 6 months')"
   ]
  },
  {
   "cell_type": "markdown",
   "id": "965dfe6d",
   "metadata": {},
   "source": [
    "We'll focus on the accounts with more than 6 months history. For that purpose we use get_df_with_history."
   ]
  },
  {
   "cell_type": "code",
   "execution_count": 15,
   "id": "052e660b",
   "metadata": {},
   "outputs": [],
   "source": [
    "from src.data_tools import get_df_with_history\n",
    "df_accounts, df_transactions = get_df_with_history(df_accounts, df_transactions)"
   ]
  },
  {
   "cell_type": "code",
   "execution_count": 16,
   "id": "8807f01e",
   "metadata": {},
   "outputs": [
    {
     "name": "stdout",
     "output_type": "stream",
     "text": [
      "We are left with 860 accounts in df_accounts and 860 in df_transactions which is as expected.\n"
     ]
    }
   ],
   "source": [
    "n_transac = len(set(df_transactions['account_id']))\n",
    "print(f'We are left with {len(df_accounts)} accounts in df_accounts and {n_transac} in df_transactions which is as expected.')"
   ]
  },
  {
   "cell_type": "markdown",
   "id": "875ffdab",
   "metadata": {},
   "source": [
    "## Processing the data for training"
   ]
  },
  {
   "cell_type": "markdown",
   "id": "8a1d6885",
   "metadata": {},
   "source": [
    "We are looking to predict the next month outgoing given the last 6 month of transaction. For that purpose it make sense to divide the history of transactions in 30 days buckets and to calculate the total amount of inflow and outflow for each 30 days bucket.  \n",
    "When processing the data, we keep the last 2 months for testing and the previous 2 months for validation so that we are sure there is no data leakage when training and testing. "
   ]
  },
  {
   "cell_type": "code",
   "execution_count": 17,
   "id": "d7873dc7",
   "metadata": {},
   "outputs": [],
   "source": [
    "from src.data_tools import get_training_data\n",
    "# When processing the data, we keep the last 2 months for testing and the previous 2 months for validation\n",
    "training_data = get_training_data(test_size=2)"
   ]
  },
  {
   "cell_type": "code",
   "execution_count": 18,
   "id": "e9aa8b8b",
   "metadata": {},
   "outputs": [
    {
     "data": {
      "text/plain": [
       "dict_keys(['train', 'val', 'test'])"
      ]
     },
     "execution_count": 18,
     "metadata": {},
     "output_type": "execute_result"
    }
   ],
   "source": [
    "training_data.keys()"
   ]
  },
  {
   "cell_type": "code",
   "execution_count": 19,
   "id": "5d11dde0",
   "metadata": {},
   "outputs": [
    {
     "data": {
      "text/plain": [
       "dict_keys(['X', 'y'])"
      ]
     },
     "execution_count": 19,
     "metadata": {},
     "output_type": "execute_result"
    }
   ],
   "source": [
    "training_data['train'].keys()"
   ]
  },
  {
   "cell_type": "markdown",
   "id": "26296975",
   "metadata": {},
   "source": [
    "The data are split between training, validation and test. Each of these split is a dictionary with the input of the model: 'X' and the target variable: 'y'. Let's check the relative proportion of these different splits:"
   ]
  },
  {
   "cell_type": "code",
   "execution_count": 20,
   "id": "7e81fb1b",
   "metadata": {},
   "outputs": [
    {
     "name": "stdout",
     "output_type": "stream",
     "text": [
      "There is a total of 13520 data\n",
      "75.5% for training, 12.3% for validation and 12.2% for testing\n"
     ]
    }
   ],
   "source": [
    "n_train = training_data['train']['X'].shape[0]\n",
    "n_val = training_data['val']['X'].shape[0]\n",
    "n_test = training_data['test']['X'].shape[0]\n",
    "n = n_train + n_val + n_test\n",
    "print(f'There is a total of {n} data')\n",
    "print(f'{n_train/n*100:.1f}% for training, {n_val/n*100:.1f}% for validation and {n_test/n*100:.1f}% for testing')"
   ]
  },
  {
   "cell_type": "markdown",
   "id": "6dfa23c8",
   "metadata": {},
   "source": [
    "This is an acceptable split of the data for training our model. Lets look at how the data were processed:"
   ]
  },
  {
   "cell_type": "code",
   "execution_count": 21,
   "id": "61e72b4c",
   "metadata": {},
   "outputs": [
    {
     "data": {
      "text/html": [
       "<div>\n",
       "<style scoped>\n",
       "    .dataframe tbody tr th:only-of-type {\n",
       "        vertical-align: middle;\n",
       "    }\n",
       "\n",
       "    .dataframe tbody tr th {\n",
       "        vertical-align: top;\n",
       "    }\n",
       "\n",
       "    .dataframe thead th {\n",
       "        text-align: right;\n",
       "    }\n",
       "</style>\n",
       "<table border=\"1\" class=\"dataframe\">\n",
       "  <thead>\n",
       "    <tr style=\"text-align: right;\">\n",
       "      <th></th>\n",
       "      <th>1M inflow</th>\n",
       "      <th>2M inflow</th>\n",
       "      <th>3M inflow</th>\n",
       "      <th>4M inflow</th>\n",
       "      <th>5M inflow</th>\n",
       "      <th>6M inflow</th>\n",
       "      <th>1M outflow</th>\n",
       "      <th>2M outflow</th>\n",
       "      <th>3M outflow</th>\n",
       "      <th>4M outflow</th>\n",
       "      <th>5M outflow</th>\n",
       "      <th>6M outflow</th>\n",
       "      <th>initial_balance</th>\n",
       "    </tr>\n",
       "  </thead>\n",
       "  <tbody>\n",
       "    <tr>\n",
       "      <th>0</th>\n",
       "      <td>90.00</td>\n",
       "      <td>0.00</td>\n",
       "      <td>0.00</td>\n",
       "      <td>50.00</td>\n",
       "      <td>0.00</td>\n",
       "      <td>0.00</td>\n",
       "      <td>0.00</td>\n",
       "      <td>-50.00</td>\n",
       "      <td>-50.00</td>\n",
       "      <td>-100.00</td>\n",
       "      <td>-50.00</td>\n",
       "      <td>-50.00</td>\n",
       "      <td>2525.00</td>\n",
       "    </tr>\n",
       "    <tr>\n",
       "      <th>1</th>\n",
       "      <td>4138.47</td>\n",
       "      <td>5376.46</td>\n",
       "      <td>3833.00</td>\n",
       "      <td>3600.00</td>\n",
       "      <td>3097.20</td>\n",
       "      <td>2000.00</td>\n",
       "      <td>-4946.87</td>\n",
       "      <td>-4929.89</td>\n",
       "      <td>-3876.41</td>\n",
       "      <td>-4195.21</td>\n",
       "      <td>-2071.26</td>\n",
       "      <td>-1680.31</td>\n",
       "      <td>70.20</td>\n",
       "    </tr>\n",
       "    <tr>\n",
       "      <th>2</th>\n",
       "      <td>0.00</td>\n",
       "      <td>0.00</td>\n",
       "      <td>0.00</td>\n",
       "      <td>0.00</td>\n",
       "      <td>1182.00</td>\n",
       "      <td>4034.00</td>\n",
       "      <td>0.00</td>\n",
       "      <td>0.00</td>\n",
       "      <td>0.00</td>\n",
       "      <td>0.00</td>\n",
       "      <td>-21.27</td>\n",
       "      <td>-2088.17</td>\n",
       "      <td>-80.94</td>\n",
       "    </tr>\n",
       "    <tr>\n",
       "      <th>3</th>\n",
       "      <td>1705.00</td>\n",
       "      <td>646.00</td>\n",
       "      <td>231.85</td>\n",
       "      <td>312.35</td>\n",
       "      <td>455.07</td>\n",
       "      <td>4787.98</td>\n",
       "      <td>-1351.20</td>\n",
       "      <td>-1039.65</td>\n",
       "      <td>-217.80</td>\n",
       "      <td>-255.07</td>\n",
       "      <td>-271.26</td>\n",
       "      <td>-754.99</td>\n",
       "      <td>280.66</td>\n",
       "    </tr>\n",
       "    <tr>\n",
       "      <th>4</th>\n",
       "      <td>0.00</td>\n",
       "      <td>0.00</td>\n",
       "      <td>0.00</td>\n",
       "      <td>0.00</td>\n",
       "      <td>1040.00</td>\n",
       "      <td>714.00</td>\n",
       "      <td>0.00</td>\n",
       "      <td>0.00</td>\n",
       "      <td>0.00</td>\n",
       "      <td>0.00</td>\n",
       "      <td>0.00</td>\n",
       "      <td>-68.65</td>\n",
       "      <td>123.69</td>\n",
       "    </tr>\n",
       "  </tbody>\n",
       "</table>\n",
       "</div>"
      ],
      "text/plain": [
       "   1M inflow  2M inflow  3M inflow  4M inflow  5M inflow  6M inflow  \\\n",
       "0      90.00       0.00       0.00      50.00       0.00       0.00   \n",
       "1    4138.47    5376.46    3833.00    3600.00    3097.20    2000.00   \n",
       "2       0.00       0.00       0.00       0.00    1182.00    4034.00   \n",
       "3    1705.00     646.00     231.85     312.35     455.07    4787.98   \n",
       "4       0.00       0.00       0.00       0.00    1040.00     714.00   \n",
       "\n",
       "   1M outflow  2M outflow  3M outflow  4M outflow  5M outflow  6M outflow  \\\n",
       "0        0.00      -50.00      -50.00     -100.00      -50.00      -50.00   \n",
       "1    -4946.87    -4929.89    -3876.41    -4195.21    -2071.26    -1680.31   \n",
       "2        0.00        0.00        0.00        0.00      -21.27    -2088.17   \n",
       "3    -1351.20    -1039.65     -217.80     -255.07     -271.26     -754.99   \n",
       "4        0.00        0.00        0.00        0.00        0.00      -68.65   \n",
       "\n",
       "   initial_balance  \n",
       "0          2525.00  \n",
       "1            70.20  \n",
       "2           -80.94  \n",
       "3           280.66  \n",
       "4           123.69  "
      ]
     },
     "execution_count": 21,
     "metadata": {},
     "output_type": "execute_result"
    }
   ],
   "source": [
    "training_data['train']['X'].head()"
   ]
  },
  {
   "cell_type": "markdown",
   "id": "75a8a762",
   "metadata": {},
   "source": [
    "These data represent 6 months of transaction history. For example, '1M inflow' gives the total amount of positive transactions in the accounts during the first month of the history considered and '6M outflow' gives the total amount of negative transaction in the accounts during the last month of the history considered. initial_balance give the balances of the account at the beginning of the 6 months period considered."
   ]
  },
  {
   "cell_type": "markdown",
   "id": "1b218918",
   "metadata": {},
   "source": [
    "We have organised the data as needed for the next step:"
   ]
  },
  {
   "cell_type": "code",
   "execution_count": 22,
   "id": "2f37f27f",
   "metadata": {},
   "outputs": [],
   "source": [
    "X_train = training_data['train']['X']\n",
    "y_train = training_data['train']['y']\n",
    "X_val = training_data['val']['X']\n",
    "y_val = training_data['val']['y']\n",
    "X_test = training_data['test']['X']\n",
    "y_test = training_data['test']['y']\n"
   ]
  },
  {
   "cell_type": "markdown",
   "id": "1e541e68",
   "metadata": {},
   "source": [
    "## Model choice"
   ]
  },
  {
   "cell_type": "markdown",
   "id": "5a2add76",
   "metadata": {},
   "source": [
    "Given that time is limited we'll compare different model performance with their default setting to choose our model"
   ]
  },
  {
   "cell_type": "code",
   "execution_count": 23,
   "id": "a4004b57",
   "metadata": {},
   "outputs": [],
   "source": [
    "# we perform some scaling on the data. It is not necessary for tree based models but we'll keep a common \n",
    "# groundwork for our analysis\n",
    "from sklearn.preprocessing import StandardScaler\n",
    "scaler = StandardScaler()\n",
    "X_train = scaler.fit_transform(X_train)\n",
    "X_val = scaler.transform(X_val)"
   ]
  },
  {
   "cell_type": "markdown",
   "id": "38d68504",
   "metadata": {},
   "source": [
    "### Regression"
   ]
  },
  {
   "cell_type": "markdown",
   "id": "5e82bda2",
   "metadata": {},
   "source": [
    "Regression will give us a benchmark. It's unlikely to be the most performant model, we should be able to do better with ensemble models."
   ]
  },
  {
   "cell_type": "code",
   "execution_count": 24,
   "id": "f18e7ae1",
   "metadata": {},
   "outputs": [
    {
     "name": "stdout",
     "output_type": "stream",
     "text": [
      "Linear regression regression r2: 0.26590342126231004\n"
     ]
    }
   ],
   "source": [
    "from sklearn.linear_model import LinearRegression\n",
    "\n",
    "# we start with linear regression\n",
    "reg = LinearRegression()\n",
    "reg.fit(X_train, y_train)\n",
    "r2 = reg.score(X_val, y_val)\n",
    "print(f'Linear regression regression r2: {r2}')"
   ]
  },
  {
   "cell_type": "code",
   "execution_count": 25,
   "id": "b7f66457",
   "metadata": {},
   "outputs": [
    {
     "name": "stdout",
     "output_type": "stream",
     "text": [
      "Ridge regression r2: 0.26592745106054116\n"
     ]
    }
   ],
   "source": [
    "from sklearn.linear_model import Ridge\n",
    "\n",
    "# we impose a penalty using Ridge regression\n",
    "reg = Ridge()\n",
    "reg.fit(X_train, y_train)\n",
    "r2 = reg.score(X_val, y_val)\n",
    "print(f'Ridge regression r2: {r2}')"
   ]
  },
  {
   "cell_type": "code",
   "execution_count": 26,
   "id": "5e5234e8",
   "metadata": {},
   "outputs": [
    {
     "name": "stdout",
     "output_type": "stream",
     "text": [
      "Lasso regression r2: 0.2658387256598487\n"
     ]
    }
   ],
   "source": [
    "from sklearn.linear_model import Lasso\n",
    "\n",
    "# we now impose a penalty using Lasso regression\n",
    "reg = Lasso()\n",
    "reg.fit(X_train, y_train)\n",
    "r2 = reg.score(X_val, y_val)\n",
    "print(f'Lasso regression r2: {r2}')"
   ]
  },
  {
   "cell_type": "markdown",
   "id": "a37a6022",
   "metadata": {},
   "source": [
    "### Random Forests"
   ]
  },
  {
   "cell_type": "code",
   "execution_count": 27,
   "id": "d3e8f5b0",
   "metadata": {},
   "outputs": [
    {
     "name": "stdout",
     "output_type": "stream",
     "text": [
      "Random forest r2: 0.1799939470557319\n"
     ]
    }
   ],
   "source": [
    "from sklearn.ensemble import RandomForestRegressor\n",
    "reg_rf = RandomForestRegressor(n_estimators=100, random_state=48)\n",
    "reg_rf.fit(X_train, y_train)\n",
    "r2 = reg_rf.score(X_val, y_val)\n",
    "print(f'Random forest r2: {r2}')"
   ]
  },
  {
   "cell_type": "markdown",
   "id": "59d924ab",
   "metadata": {},
   "source": [
    "### Light GBM"
   ]
  },
  {
   "cell_type": "code",
   "execution_count": 28,
   "id": "11f3e818",
   "metadata": {},
   "outputs": [
    {
     "name": "stdout",
     "output_type": "stream",
     "text": [
      "Light gbm r2: 0.28423212148743804\n"
     ]
    }
   ],
   "source": [
    "from lightgbm import LGBMRegressor\n",
    "reg_lg = LGBMRegressor(n_estimators=100, random_state=48)\n",
    "reg_lg.fit(X_train, y_train)\n",
    "r2 = reg_lg.score(X_val, y_val)\n",
    "print(f'Light gbm r2: {r2}')"
   ]
  },
  {
   "cell_type": "markdown",
   "id": "0c498fb4",
   "metadata": {},
   "source": [
    "Light GBM seems the most promising model. We'll use Light GBM from now on"
   ]
  },
  {
   "cell_type": "markdown",
   "id": "31efc9d4",
   "metadata": {},
   "source": [
    "### Hyperparameter tuning for Light GBM"
   ]
  },
  {
   "cell_type": "markdown",
   "id": "e80bf208",
   "metadata": {},
   "source": [
    "We use Optuna for hyperparameters tuning and fine tune more parameters:\n",
    "- parameters that control the tree structure: num_leaves and max_depth (between 3 and 12). LGBM documentation indicates that num_leaves should be < 2^(max_depth)\n",
    "- parameters for better accuracy: n_estimators and learning_rate (0.01-0.3)\n",
    "- parameters to control overfitting: regularization (l1 or l2) and bagging fraction  \n"
   ]
  },
  {
   "cell_type": "code",
   "execution_count": 29,
   "id": "e534b946",
   "metadata": {},
   "outputs": [
    {
     "name": "stderr",
     "output_type": "stream",
     "text": [
      "/Users/gdegournay/opt/anaconda3/envs/mansa/lib/python3.9/site-packages/tqdm/auto.py:22: TqdmWarning: IProgress not found. Please update jupyter and ipywidgets. See https://ipywidgets.readthedocs.io/en/stable/user_install.html\n",
      "  from .autonotebook import tqdm as notebook_tqdm\n"
     ]
    }
   ],
   "source": [
    "import optuna\n",
    "from src.hyper_params import get_objective"
   ]
  },
  {
   "cell_type": "code",
   "execution_count": 30,
   "id": "7262ebe8",
   "metadata": {},
   "outputs": [
    {
     "name": "stderr",
     "output_type": "stream",
     "text": [
      "\u001b[32m[I 2022-04-22 14:04:30,452]\u001b[0m A new study created in memory with name: no-name-7c9d3e30-7753-4e05-9d04-f2768c9a000b\u001b[0m\n"
     ]
    },
    {
     "name": "stdout",
     "output_type": "stream",
     "text": [
      "Training until validation scores don't improve for 100 rounds\n",
      "[100]\tvalid_0's rmse: 7660.11\n",
      "[200]\tvalid_0's rmse: 7386.87\n"
     ]
    },
    {
     "name": "stderr",
     "output_type": "stream",
     "text": [
      "\u001b[32m[I 2022-04-22 14:04:30,804]\u001b[0m Trial 0 finished with value: 7381.3500106699985 and parameters: {'n_estimators': 1250, 'reg_alpha': 0.718567010048906, 'reg_lambda': 0.30879783323044596, 'colsample_bytree': 0.5, 'subsample': 0.7, 'learning_rate': 0.01, 'max_depth': 12, 'num_leaves': 423, 'min_child_samples': 139, 'min_data_per_groups': 36}. Best is trial 0 with value: 7381.3500106699985.\u001b[0m\n"
     ]
    },
    {
     "name": "stdout",
     "output_type": "stream",
     "text": [
      "[300]\tvalid_0's rmse: 7420.32\n",
      "Early stopping, best iteration is:\n",
      "[228]\tvalid_0's rmse: 7381.35\n",
      "Training until validation scores don't improve for 100 rounds\n",
      "[100]\tvalid_0's rmse: 7959.14\n"
     ]
    },
    {
     "name": "stderr",
     "output_type": "stream",
     "text": [
      "\u001b[32m[I 2022-04-22 14:04:31,131]\u001b[0m Trial 1 finished with value: 7521.91418835897 and parameters: {'n_estimators': 1000, 'reg_alpha': 0.5010106557156396, 'reg_lambda': 0.020814518035434534, 'colsample_bytree': 0.7, 'subsample': 0.6, 'learning_rate': 0.008, 'max_depth': 12, 'num_leaves': 233, 'min_child_samples': 201, 'min_data_per_groups': 83}. Best is trial 0 with value: 7381.3500106699985.\u001b[0m\n"
     ]
    },
    {
     "name": "stdout",
     "output_type": "stream",
     "text": [
      "[200]\tvalid_0's rmse: 7552.56\n",
      "[300]\tvalid_0's rmse: 7527.63\n",
      "Early stopping, best iteration is:\n",
      "[257]\tvalid_0's rmse: 7521.91\n",
      "Training until validation scores don't improve for 100 rounds\n"
     ]
    },
    {
     "name": "stderr",
     "output_type": "stream",
     "text": [
      "\u001b[32m[I 2022-04-22 14:04:31,230]\u001b[0m Trial 2 finished with value: 7644.776428623257 and parameters: {'n_estimators': 100, 'reg_alpha': 0.010712661149237492, 'reg_lambda': 0.6433364511553987, 'colsample_bytree': 1.0, 'subsample': 1.0, 'learning_rate': 0.017, 'max_depth': 15, 'num_leaves': 269, 'min_child_samples': 292, 'min_data_per_groups': 11}. Best is trial 0 with value: 7381.3500106699985.\u001b[0m\n"
     ]
    },
    {
     "name": "stdout",
     "output_type": "stream",
     "text": [
      "[100]\tvalid_0's rmse: 7644.78\n",
      "Did not meet early stopping. Best iteration is:\n",
      "[100]\tvalid_0's rmse: 7644.78\n",
      "Training until validation scores don't improve for 100 rounds\n",
      "[100]\tvalid_0's rmse: 7777.8\n",
      "[200]\tvalid_0's rmse: 7376.84\n"
     ]
    },
    {
     "name": "stderr",
     "output_type": "stream",
     "text": [
      "\u001b[32m[I 2022-04-22 14:04:31,454]\u001b[0m Trial 3 finished with value: 7368.851759414185 and parameters: {'n_estimators': 1250, 'reg_alpha': 0.00841886435939294, 'reg_lambda': 0.002184959277473596, 'colsample_bytree': 0.5, 'subsample': 0.5, 'learning_rate': 0.008, 'max_depth': 7, 'num_leaves': 718, 'min_child_samples': 92, 'min_data_per_groups': 78}. Best is trial 3 with value: 7368.851759414185.\u001b[0m\n"
     ]
    },
    {
     "name": "stdout",
     "output_type": "stream",
     "text": [
      "[300]\tvalid_0's rmse: 7382.36\n",
      "Early stopping, best iteration is:\n",
      "[214]\tvalid_0's rmse: 7368.85\n",
      "Training until validation scores don't improve for 100 rounds\n",
      "[100]\tvalid_0's rmse: 7511.53\n"
     ]
    },
    {
     "name": "stderr",
     "output_type": "stream",
     "text": [
      "\u001b[32m[I 2022-04-22 14:04:31,702]\u001b[0m Trial 4 finished with value: 7489.878283720449 and parameters: {'n_estimators': 250, 'reg_alpha': 1.9145996590327772, 'reg_lambda': 0.001951846550796919, 'colsample_bytree': 0.4, 'subsample': 0.5, 'learning_rate': 0.017, 'max_depth': 15, 'num_leaves': 754, 'min_child_samples': 205, 'min_data_per_groups': 50}. Best is trial 3 with value: 7368.851759414185.\u001b[0m\n"
     ]
    },
    {
     "name": "stdout",
     "output_type": "stream",
     "text": [
      "[200]\tvalid_0's rmse: 7554.43\n",
      "Early stopping, best iteration is:\n",
      "[126]\tvalid_0's rmse: 7489.88\n",
      "Training until validation scores don't improve for 100 rounds\n",
      "[100]\tvalid_0's rmse: 7574.57\n",
      "[200]\tvalid_0's rmse: 7512.99\n"
     ]
    },
    {
     "name": "stderr",
     "output_type": "stream",
     "text": [
      "\u001b[32m[I 2022-04-22 14:04:31,943]\u001b[0m Trial 5 finished with value: 7481.823144604938 and parameters: {'n_estimators': 2000, 'reg_alpha': 6.347305425889957, 'reg_lambda': 0.03317199830894514, 'colsample_bytree': 0.4, 'subsample': 1.0, 'learning_rate': 0.014, 'max_depth': 12, 'num_leaves': 625, 'min_child_samples': 204, 'min_data_per_groups': 58}. Best is trial 3 with value: 7368.851759414185.\u001b[0m\n",
      "\u001b[32m[I 2022-04-22 14:04:32,090]\u001b[0m Trial 6 finished with value: 7521.038795879433 and parameters: {'n_estimators': 250, 'reg_alpha': 0.5149635000155278, 'reg_lambda': 0.10000139313301608, 'colsample_bytree': 0.6, 'subsample': 0.5, 'learning_rate': 0.008, 'max_depth': 7, 'num_leaves': 363, 'min_child_samples': 201, 'min_data_per_groups': 70}. Best is trial 3 with value: 7368.851759414185.\u001b[0m\n"
     ]
    },
    {
     "name": "stdout",
     "output_type": "stream",
     "text": [
      "Early stopping, best iteration is:\n",
      "[167]\tvalid_0's rmse: 7481.82\n",
      "Training until validation scores don't improve for 100 rounds\n",
      "[100]\tvalid_0's rmse: 7967.09\n",
      "[200]\tvalid_0's rmse: 7551.08\n",
      "Did not meet early stopping. Best iteration is:\n",
      "[250]\tvalid_0's rmse: 7521.04\n",
      "Training until validation scores don't improve for 100 rounds\n",
      "[100]\tvalid_0's rmse: 8109.95\n",
      "[200]\tvalid_0's rmse: 7551.62\n",
      "[300]\tvalid_0's rmse: 7406.05\n"
     ]
    },
    {
     "name": "stderr",
     "output_type": "stream",
     "text": [
      "\u001b[32m[I 2022-04-22 14:04:32,533]\u001b[0m Trial 7 finished with value: 7392.601595111302 and parameters: {'n_estimators': 1000, 'reg_alpha': 0.23074913273853306, 'reg_lambda': 0.024395450061034274, 'colsample_bytree': 1.0, 'subsample': 1.0, 'learning_rate': 0.006, 'max_depth': 12, 'num_leaves': 111, 'min_child_samples': 139, 'min_data_per_groups': 70}. Best is trial 3 with value: 7368.851759414185.\u001b[0m\n"
     ]
    },
    {
     "name": "stdout",
     "output_type": "stream",
     "text": [
      "[400]\tvalid_0's rmse: 7400.39\n",
      "Early stopping, best iteration is:\n",
      "[348]\tvalid_0's rmse: 7392.6\n",
      "Training until validation scores don't improve for 100 rounds\n",
      "[100]\tvalid_0's rmse: 7938.4\n"
     ]
    },
    {
     "name": "stderr",
     "output_type": "stream",
     "text": [
      "\u001b[32m[I 2022-04-22 14:04:32,859]\u001b[0m Trial 8 finished with value: 7263.847092796182 and parameters: {'n_estimators': 1000, 'reg_alpha': 0.0016119218181259286, 'reg_lambda': 0.002509094868592898, 'colsample_bytree': 0.9, 'subsample': 0.7, 'learning_rate': 0.006, 'max_depth': 7, 'num_leaves': 436, 'min_child_samples': 23, 'min_data_per_groups': 62}. Best is trial 8 with value: 7263.847092796182.\u001b[0m\n"
     ]
    },
    {
     "name": "stdout",
     "output_type": "stream",
     "text": [
      "[200]\tvalid_0's rmse: 7424.75\n",
      "[300]\tvalid_0's rmse: 7290.18\n",
      "[400]\tvalid_0's rmse: 7270.39\n",
      "Early stopping, best iteration is:\n",
      "[359]\tvalid_0's rmse: 7263.85\n",
      "Training until validation scores don't improve for 100 rounds\n",
      "[100]\tvalid_0's rmse: 8365.59\n"
     ]
    },
    {
     "name": "stderr",
     "output_type": "stream",
     "text": [
      "\u001b[32m[I 2022-04-22 14:04:32,987]\u001b[0m Trial 9 finished with value: 7597.130239605568 and parameters: {'n_estimators': 2000, 'reg_alpha': 0.0015897816838100183, 'reg_lambda': 0.0015137425816443828, 'colsample_bytree': 0.4, 'subsample': 0.7, 'learning_rate': 0.006, 'max_depth': 3, 'num_leaves': 793, 'min_child_samples': 274, 'min_data_per_groups': 76}. Best is trial 8 with value: 7263.847092796182.\u001b[0m\n"
     ]
    },
    {
     "name": "stdout",
     "output_type": "stream",
     "text": [
      "[200]\tvalid_0's rmse: 7780.61\n",
      "[300]\tvalid_0's rmse: 7613.66\n",
      "[400]\tvalid_0's rmse: 7602.4\n",
      "Early stopping, best iteration is:\n",
      "[361]\tvalid_0's rmse: 7597.13\n",
      "Training until validation scores don't improve for 100 rounds\n",
      "[100]\tvalid_0's rmse: 7816.8\n"
     ]
    },
    {
     "name": "stderr",
     "output_type": "stream",
     "text": [
      "\u001b[32m[I 2022-04-22 14:04:33,151]\u001b[0m Trial 10 finished with value: 7814.7537257641 and parameters: {'n_estimators': 500, 'reg_alpha': 0.04070595442418664, 'reg_lambda': 9.177371878394373, 'colsample_bytree': 0.9, 'subsample': 0.4, 'learning_rate': 0.02, 'max_depth': 5, 'num_leaves': 982, 'min_child_samples': 2, 'min_data_per_groups': 28}. Best is trial 8 with value: 7263.847092796182.\u001b[0m\n"
     ]
    },
    {
     "name": "stdout",
     "output_type": "stream",
     "text": [
      "[200]\tvalid_0's rmse: 8213.37\n",
      "Early stopping, best iteration is:\n",
      "[103]\tvalid_0's rmse: 7814.75\n",
      "Training until validation scores don't improve for 100 rounds\n",
      "[100]\tvalid_0's rmse: 7955.91\n",
      "[200]\tvalid_0's rmse: 7389.8\n"
     ]
    },
    {
     "name": "stderr",
     "output_type": "stream",
     "text": [
      "\u001b[32m[I 2022-04-22 14:04:33,454]\u001b[0m Trial 11 finished with value: 7281.575288410799 and parameters: {'n_estimators': 1250, 'reg_alpha': 0.001301003215391624, 'reg_lambda': 0.004064309099831402, 'colsample_bytree': 0.5, 'subsample': 0.8, 'learning_rate': 0.006, 'max_depth': 7, 'num_leaves': 587, 'min_child_samples': 36, 'min_data_per_groups': 97}. Best is trial 8 with value: 7263.847092796182.\u001b[0m\n"
     ]
    },
    {
     "name": "stdout",
     "output_type": "stream",
     "text": [
      "[300]\tvalid_0's rmse: 7285.38\n",
      "[400]\tvalid_0's rmse: 7305.02\n",
      "Early stopping, best iteration is:\n",
      "[316]\tvalid_0's rmse: 7281.58\n",
      "Training until validation scores don't improve for 100 rounds\n",
      "[100]\tvalid_0's rmse: 8596.73\n",
      "[200]\tvalid_0's rmse: 8505.95\n",
      "[300]\tvalid_0's rmse: 8494.22\n"
     ]
    },
    {
     "name": "stderr",
     "output_type": "stream",
     "text": [
      "\u001b[32m[I 2022-04-22 14:04:33,874]\u001b[0m Trial 12 finished with value: 8472.535364172008 and parameters: {'n_estimators': 750, 'reg_alpha': 0.0018365823008690974, 'reg_lambda': 0.006917795573275732, 'colsample_bytree': 0.8, 'subsample': 0.8, 'learning_rate': 0.006, 'max_depth': 7, 'num_leaves': 582, 'min_child_samples': 3, 'min_data_per_groups': 100}. Best is trial 8 with value: 7263.847092796182.\u001b[0m\n"
     ]
    },
    {
     "name": "stdout",
     "output_type": "stream",
     "text": [
      "Early stopping, best iteration is:\n",
      "[263]\tvalid_0's rmse: 8472.54\n",
      "Training until validation scores don't improve for 100 rounds\n",
      "[100]\tvalid_0's rmse: 8006.13\n",
      "[200]\tvalid_0's rmse: 7385.27\n",
      "[300]\tvalid_0's rmse: 7297.32\n"
     ]
    },
    {
     "name": "stderr",
     "output_type": "stream",
     "text": [
      "\u001b[32m[I 2022-04-22 14:04:34,418]\u001b[0m Trial 13 finished with value: 7294.173304221844 and parameters: {'n_estimators': 1000, 'reg_alpha': 0.007640336865087608, 'reg_lambda': 0.012036051467734501, 'colsample_bytree': 0.3, 'subsample': 0.8, 'learning_rate': 0.006, 'max_depth': 10, 'num_leaves': 495, 'min_child_samples': 62, 'min_data_per_groups': 91}. Best is trial 8 with value: 7263.847092796182.\u001b[0m\n"
     ]
    },
    {
     "name": "stdout",
     "output_type": "stream",
     "text": [
      "Early stopping, best iteration is:\n",
      "[278]\tvalid_0's rmse: 7294.17\n",
      "Training until validation scores don't improve for 100 rounds\n",
      "[100]\tvalid_0's rmse: 7914.56\n",
      "[200]\tvalid_0's rmse: 7422.2\n"
     ]
    },
    {
     "name": "stderr",
     "output_type": "stream",
     "text": [
      "\u001b[32m[I 2022-04-22 14:04:34,679]\u001b[0m Trial 14 finished with value: 7366.479407490431 and parameters: {'n_estimators': 1250, 'reg_alpha': 0.0011363610238240545, 'reg_lambda': 0.004986622663313889, 'colsample_bytree': 0.9, 'subsample': 0.7, 'learning_rate': 0.006, 'max_depth': 7, 'num_leaves': 43, 'min_child_samples': 48, 'min_data_per_groups': 51}. Best is trial 8 with value: 7263.847092796182.\u001b[0m\n",
      "\u001b[32m[I 2022-04-22 14:04:34,823]\u001b[0m Trial 15 finished with value: 7365.02906616742 and parameters: {'n_estimators': 750, 'reg_alpha': 0.047034607071285976, 'reg_lambda': 0.0011180194013982734, 'colsample_bytree': 0.9, 'subsample': 0.8, 'learning_rate': 0.014, 'max_depth': 7, 'num_leaves': 931, 'min_child_samples': 53, 'min_data_per_groups': 100}. Best is trial 8 with value: 7263.847092796182.\u001b[0m\n"
     ]
    },
    {
     "name": "stdout",
     "output_type": "stream",
     "text": [
      "[300]\tvalid_0's rmse: 7368.59\n",
      "Early stopping, best iteration is:\n",
      "[287]\tvalid_0's rmse: 7366.48\n",
      "Training until validation scores don't improve for 100 rounds\n",
      "[100]\tvalid_0's rmse: 7383.47\n",
      "[200]\tvalid_0's rmse: 7502.39\n",
      "Early stopping, best iteration is:\n",
      "[116]\tvalid_0's rmse: 7365.03\n"
     ]
    },
    {
     "name": "stderr",
     "output_type": "stream",
     "text": [
      "\u001b[32m[I 2022-04-22 14:04:34,959]\u001b[0m Trial 16 finished with value: 7360.569689714738 and parameters: {'n_estimators': 100, 'reg_alpha': 0.004598573741195137, 'reg_lambda': 0.09722050428966661, 'colsample_bytree': 0.5, 'subsample': 0.4, 'learning_rate': 0.02, 'max_depth': 10, 'num_leaves': 564, 'min_child_samples': 92, 'min_data_per_groups': 6}. Best is trial 8 with value: 7263.847092796182.\u001b[0m\n"
     ]
    },
    {
     "name": "stdout",
     "output_type": "stream",
     "text": [
      "Training until validation scores don't improve for 100 rounds\n",
      "[100]\tvalid_0's rmse: 7364.14\n",
      "Did not meet early stopping. Best iteration is:\n",
      "[89]\tvalid_0's rmse: 7360.57\n",
      "Training until validation scores don't improve for 100 rounds\n",
      "[100]\tvalid_0's rmse: 7622.15\n",
      "[200]\tvalid_0's rmse: 7287.31\n",
      "[300]\tvalid_0's rmse: 7313.63\n",
      "Early stopping, best iteration is:\n",
      "[223]\tvalid_0's rmse: 7278.78\n"
     ]
    },
    {
     "name": "stderr",
     "output_type": "stream",
     "text": [
      "\u001b[32m[I 2022-04-22 14:04:35,059]\u001b[0m Trial 17 finished with value: 7278.775306268422 and parameters: {'n_estimators': 500, 'reg_alpha': 0.02679175556396939, 'reg_lambda': 0.005821002048417379, 'colsample_bytree': 0.3, 'subsample': 0.6, 'learning_rate': 0.01, 'max_depth': 3, 'num_leaves': 395, 'min_child_samples': 29, 'min_data_per_groups': 32}. Best is trial 8 with value: 7263.847092796182.\u001b[0m\n",
      "\u001b[32m[I 2022-04-22 14:04:35,155]\u001b[0m Trial 18 finished with value: 7394.958259556604 and parameters: {'n_estimators': 500, 'reg_alpha': 0.028100579104821225, 'reg_lambda': 3.5793848520421006, 'colsample_bytree': 0.3, 'subsample': 0.6, 'learning_rate': 0.01, 'max_depth': 3, 'num_leaves': 320, 'min_child_samples': 97, 'min_data_per_groups': 25}. Best is trial 8 with value: 7263.847092796182.\u001b[0m\n",
      "\u001b[32m[I 2022-04-22 14:04:35,253]\u001b[0m Trial 19 finished with value: 7309.800424845902 and parameters: {'n_estimators': 500, 'reg_alpha': 0.12881616751475908, 'reg_lambda': 0.05494314363816614, 'colsample_bytree': 0.3, 'subsample': 0.6, 'learning_rate': 0.01, 'max_depth': 3, 'num_leaves': 162, 'min_child_samples': 23, 'min_data_per_groups': 41}. Best is trial 8 with value: 7263.847092796182.\u001b[0m\n"
     ]
    },
    {
     "name": "stdout",
     "output_type": "stream",
     "text": [
      "Training until validation scores don't improve for 100 rounds\n",
      "[100]\tvalid_0's rmse: 7707.37\n",
      "[200]\tvalid_0's rmse: 7398.25\n",
      "[300]\tvalid_0's rmse: 7415.46\n",
      "Early stopping, best iteration is:\n",
      "[212]\tvalid_0's rmse: 7394.96\n",
      "Training until validation scores don't improve for 100 rounds\n",
      "[100]\tvalid_0's rmse: 7659.7\n",
      "[200]\tvalid_0's rmse: 7320.27\n",
      "[300]\tvalid_0's rmse: 7342.47\n",
      "Early stopping, best iteration is:\n",
      "[217]\tvalid_0's rmse: 7309.8\n",
      "Training until validation scores don't improve for 100 rounds\n"
     ]
    },
    {
     "name": "stderr",
     "output_type": "stream",
     "text": [
      "\u001b[32m[I 2022-04-22 14:04:35,394]\u001b[0m Trial 20 finished with value: 7414.369594607533 and parameters: {'n_estimators': 1000, 'reg_alpha': 0.01805456385853269, 'reg_lambda': 0.00999986374296881, 'colsample_bytree': 0.7, 'subsample': 0.6, 'learning_rate': 0.01, 'max_depth': 5, 'num_leaves': 416, 'min_child_samples': 115, 'min_data_per_groups': 19}. Best is trial 8 with value: 7263.847092796182.\u001b[0m\n"
     ]
    },
    {
     "name": "stdout",
     "output_type": "stream",
     "text": [
      "[100]\tvalid_0's rmse: 7623.85\n",
      "[200]\tvalid_0's rmse: 7414.37\n",
      "[300]\tvalid_0's rmse: 7482.06\n",
      "Early stopping, best iteration is:\n",
      "[200]\tvalid_0's rmse: 7414.37\n",
      "Training until validation scores don't improve for 100 rounds\n",
      "[100]\tvalid_0's rmse: 8105.69\n",
      "[200]\tvalid_0's rmse: 7500.92\n",
      "[300]\tvalid_0's rmse: 7365.81\n",
      "[400]\tvalid_0's rmse: 7340.01\n",
      "Early stopping, best iteration is:\n",
      "[393]\tvalid_0's rmse: 7338.86\n"
     ]
    },
    {
     "name": "stderr",
     "output_type": "stream",
     "text": [
      "\u001b[32m[I 2022-04-22 14:04:35,531]\u001b[0m Trial 21 finished with value: 7338.858966167534 and parameters: {'n_estimators': 1250, 'reg_alpha': 0.002420438141306747, 'reg_lambda': 0.002947090862027898, 'colsample_bytree': 0.6, 'subsample': 0.7, 'learning_rate': 0.006, 'max_depth': 3, 'num_leaves': 487, 'min_child_samples': 32, 'min_data_per_groups': 61}. Best is trial 8 with value: 7263.847092796182.\u001b[0m\n"
     ]
    },
    {
     "name": "stdout",
     "output_type": "stream",
     "text": [
      "Training until validation scores don't improve for 100 rounds\n",
      "[100]\tvalid_0's rmse: 7932.93\n",
      "[200]\tvalid_0's rmse: 7410.21\n",
      "[300]\tvalid_0's rmse: 7367.97\n",
      "Early stopping, best iteration is:\n",
      "[285]\tvalid_0's rmse: 7363.93\n"
     ]
    },
    {
     "name": "stderr",
     "output_type": "stream",
     "text": [
      "\u001b[32m[I 2022-04-22 14:04:35,779]\u001b[0m Trial 22 finished with value: 7363.93054192049 and parameters: {'n_estimators': 500, 'reg_alpha': 0.004343756313312238, 'reg_lambda': 0.0037298431768576367, 'colsample_bytree': 0.8, 'subsample': 0.8, 'learning_rate': 0.006, 'max_depth': 7, 'num_leaves': 623, 'min_child_samples': 67, 'min_data_per_groups': 39}. Best is trial 8 with value: 7263.847092796182.\u001b[0m\n",
      "\u001b[32m[I 2022-04-22 14:04:35,983]\u001b[0m Trial 23 finished with value: 7287.968069697077 and parameters: {'n_estimators': 500, 'reg_alpha': 0.001030253687925956, 'reg_lambda': 0.009436247540371352, 'colsample_bytree': 0.5, 'subsample': 0.6, 'learning_rate': 0.01, 'max_depth': 7, 'num_leaves': 465, 'min_child_samples': 27, 'min_data_per_groups': 89}. Best is trial 8 with value: 7263.847092796182.\u001b[0m\n"
     ]
    },
    {
     "name": "stdout",
     "output_type": "stream",
     "text": [
      "Training until validation scores don't improve for 100 rounds\n",
      "[100]\tvalid_0's rmse: 7512.58\n",
      "[200]\tvalid_0's rmse: 7290.78\n",
      "Early stopping, best iteration is:\n",
      "[174]\tvalid_0's rmse: 7287.97\n"
     ]
    },
    {
     "name": "stderr",
     "output_type": "stream",
     "text": [
      "\u001b[32m[I 2022-04-22 14:04:36,113]\u001b[0m Trial 24 finished with value: 7413.333486370669 and parameters: {'n_estimators': 1000, 'reg_alpha': 0.004791076471739091, 'reg_lambda': 0.0012315144503803198, 'colsample_bytree': 0.9, 'subsample': 0.8, 'learning_rate': 0.006, 'max_depth': 3, 'num_leaves': 366, 'min_child_samples': 68, 'min_data_per_groups': 48}. Best is trial 8 with value: 7263.847092796182.\u001b[0m\n"
     ]
    },
    {
     "name": "stdout",
     "output_type": "stream",
     "text": [
      "Training until validation scores don't improve for 100 rounds\n",
      "[100]\tvalid_0's rmse: 8060.99\n",
      "[200]\tvalid_0's rmse: 7527.45\n",
      "[300]\tvalid_0's rmse: 7418.07\n",
      "[400]\tvalid_0's rmse: 7419.89\n",
      "Early stopping, best iteration is:\n",
      "[344]\tvalid_0's rmse: 7413.33\n",
      "Training until validation scores don't improve for 100 rounds\n",
      "[100]\tvalid_0's rmse: 7426.69\n"
     ]
    },
    {
     "name": "stderr",
     "output_type": "stream",
     "text": [
      "\u001b[32m[I 2022-04-22 14:04:36,259]\u001b[0m Trial 25 finished with value: 7401.693308445371 and parameters: {'n_estimators': 1250, 'reg_alpha': 0.0033526650465610167, 'reg_lambda': 0.004654131956168804, 'colsample_bytree': 0.3, 'subsample': 0.7, 'learning_rate': 0.017, 'max_depth': 7, 'num_leaves': 843, 'min_child_samples': 167, 'min_data_per_groups': 63}. Best is trial 8 with value: 7263.847092796182.\u001b[0m\n",
      "\u001b[32m[I 2022-04-22 14:04:36,329]\u001b[0m Trial 26 finished with value: 7402.379385387006 and parameters: {'n_estimators': 100, 'reg_alpha': 0.08410664860668715, 'reg_lambda': 0.013783646047116427, 'colsample_bytree': 0.5, 'subsample': 0.4, 'learning_rate': 0.014, 'max_depth': 5, 'num_leaves': 676, 'min_child_samples': 31, 'min_data_per_groups': 29}. Best is trial 8 with value: 7263.847092796182.\u001b[0m\n"
     ]
    },
    {
     "name": "stdout",
     "output_type": "stream",
     "text": [
      "[200]\tvalid_0's rmse: 7456.48\n",
      "Early stopping, best iteration is:\n",
      "[122]\tvalid_0's rmse: 7401.69\n",
      "Training until validation scores don't improve for 100 rounds\n",
      "[100]\tvalid_0's rmse: 7402.38\n",
      "Did not meet early stopping. Best iteration is:\n",
      "[100]\tvalid_0's rmse: 7402.38\n",
      "Training until validation scores don't improve for 100 rounds\n"
     ]
    },
    {
     "name": "stderr",
     "output_type": "stream",
     "text": [
      "\u001b[32m[I 2022-04-22 14:04:36,749]\u001b[0m Trial 27 finished with value: 9006.636183954603 and parameters: {'n_estimators': 2000, 'reg_alpha': 0.01506841565334068, 'reg_lambda': 0.44051717706482096, 'colsample_bytree': 0.9, 'subsample': 0.6, 'learning_rate': 0.02, 'max_depth': 10, 'num_leaves': 552, 'min_child_samples': 2, 'min_data_per_groups': 14}. Best is trial 8 with value: 7263.847092796182.\u001b[0m\n"
     ]
    },
    {
     "name": "stdout",
     "output_type": "stream",
     "text": [
      "[100]\tvalid_0's rmse: 10337.6\n",
      "Early stopping, best iteration is:\n",
      "[32]\tvalid_0's rmse: 9006.64\n",
      "Training until validation scores don't improve for 100 rounds\n",
      "[100]\tvalid_0's rmse: 7556.87\n",
      "[200]\tvalid_0's rmse: 7319.56\n"
     ]
    },
    {
     "name": "stderr",
     "output_type": "stream",
     "text": [
      "\u001b[32m[I 2022-04-22 14:04:37,180]\u001b[0m Trial 28 finished with value: 7310.305778355652 and parameters: {'n_estimators': 250, 'reg_alpha': 0.023212510126666374, 'reg_lambda': 0.0033666806170297814, 'colsample_bytree': 0.3, 'subsample': 0.8, 'learning_rate': 0.01, 'max_depth': 15, 'num_leaves': 284, 'min_child_samples': 79, 'min_data_per_groups': 92}. Best is trial 8 with value: 7263.847092796182.\u001b[0m\n",
      "\u001b[32m[I 2022-04-22 14:04:37,277]\u001b[0m Trial 29 finished with value: 7395.388316426382 and parameters: {'n_estimators': 1250, 'reg_alpha': 1.916492969137763, 'reg_lambda': 0.19801804476304294, 'colsample_bytree': 0.5, 'subsample': 0.7, 'learning_rate': 0.01, 'max_depth': 3, 'num_leaves': 416, 'min_child_samples': 120, 'min_data_per_groups': 34}. Best is trial 8 with value: 7263.847092796182.\u001b[0m\n"
     ]
    },
    {
     "name": "stdout",
     "output_type": "stream",
     "text": [
      "Did not meet early stopping. Best iteration is:\n",
      "[176]\tvalid_0's rmse: 7310.31\n",
      "Training until validation scores don't improve for 100 rounds\n",
      "[100]\tvalid_0's rmse: 7701.95\n",
      "[200]\tvalid_0's rmse: 7402.96\n",
      "[300]\tvalid_0's rmse: 7421.94\n",
      "Early stopping, best iteration is:\n",
      "[231]\tvalid_0's rmse: 7395.39\n",
      "Training until validation scores don't improve for 100 rounds\n",
      "[100]\tvalid_0's rmse: 8162.24\n",
      "[200]\tvalid_0's rmse: 7609.8\n",
      "[300]\tvalid_0's rmse: 7476.25\n"
     ]
    },
    {
     "name": "stderr",
     "output_type": "stream",
     "text": [
      "\u001b[32m[I 2022-04-22 14:04:37,679]\u001b[0m Trial 30 finished with value: 7454.931202187149 and parameters: {'n_estimators': 750, 'reg_alpha': 0.0028674208086978056, 'reg_lambda': 1.3511594423265314, 'colsample_bytree': 1.0, 'subsample': 0.7, 'learning_rate': 0.006, 'max_depth': 7, 'num_leaves': 206, 'min_child_samples': 161, 'min_data_per_groups': 2}. Best is trial 8 with value: 7263.847092796182.\u001b[0m\n"
     ]
    },
    {
     "name": "stdout",
     "output_type": "stream",
     "text": [
      "[400]\tvalid_0's rmse: 7455.47\n",
      "[500]\tvalid_0's rmse: 7465.34\n",
      "Early stopping, best iteration is:\n",
      "[406]\tvalid_0's rmse: 7454.93\n",
      "Training until validation scores don't improve for 100 rounds\n",
      "[100]\tvalid_0's rmse: 7524.62\n"
     ]
    },
    {
     "name": "stderr",
     "output_type": "stream",
     "text": [
      "\u001b[32m[I 2022-04-22 14:04:37,987]\u001b[0m Trial 31 finished with value: 7281.018046762286 and parameters: {'n_estimators': 500, 'reg_alpha': 0.0010324632187601354, 'reg_lambda': 0.007661195248786861, 'colsample_bytree': 0.5, 'subsample': 0.6, 'learning_rate': 0.01, 'max_depth': 7, 'num_leaves': 467, 'min_child_samples': 25, 'min_data_per_groups': 89}. Best is trial 8 with value: 7263.847092796182.\u001b[0m\n"
     ]
    },
    {
     "name": "stdout",
     "output_type": "stream",
     "text": [
      "[200]\tvalid_0's rmse: 7282.63\n",
      "Early stopping, best iteration is:\n",
      "[197]\tvalid_0's rmse: 7281.02\n",
      "Training until validation scores don't improve for 100 rounds\n",
      "[100]\tvalid_0's rmse: 7499.84\n"
     ]
    },
    {
     "name": "stderr",
     "output_type": "stream",
     "text": [
      "\u001b[32m[I 2022-04-22 14:04:38,219]\u001b[0m Trial 32 finished with value: 7341.6748593155835 and parameters: {'n_estimators': 500, 'reg_alpha': 0.0015355546112040264, 'reg_lambda': 0.0058674449293293195, 'colsample_bytree': 0.5, 'subsample': 0.6, 'learning_rate': 0.01, 'max_depth': 7, 'num_leaves': 442, 'min_child_samples': 45, 'min_data_per_groups': 85}. Best is trial 8 with value: 7263.847092796182.\u001b[0m\n"
     ]
    },
    {
     "name": "stdout",
     "output_type": "stream",
     "text": [
      "[200]\tvalid_0's rmse: 7366.54\n",
      "Early stopping, best iteration is:\n",
      "[157]\tvalid_0's rmse: 7341.67\n",
      "Training until validation scores don't improve for 100 rounds\n"
     ]
    },
    {
     "name": "stderr",
     "output_type": "stream",
     "text": [
      "\u001b[32m[I 2022-04-22 14:04:38,550]\u001b[0m Trial 33 finished with value: 7369.959367974427 and parameters: {'n_estimators': 500, 'reg_alpha': 0.006972414695781994, 'reg_lambda': 0.018934308899345897, 'colsample_bytree': 0.7, 'subsample': 0.6, 'learning_rate': 0.01, 'max_depth': 7, 'num_leaves': 529, 'min_child_samples': 15, 'min_data_per_groups': 96}. Best is trial 8 with value: 7263.847092796182.\u001b[0m\n"
     ]
    },
    {
     "name": "stdout",
     "output_type": "stream",
     "text": [
      "[100]\tvalid_0's rmse: 7594.17\n",
      "[200]\tvalid_0's rmse: 7371.91\n",
      "[300]\tvalid_0's rmse: 7403.29\n",
      "Early stopping, best iteration is:\n",
      "[207]\tvalid_0's rmse: 7369.96\n",
      "Training until validation scores don't improve for 100 rounds\n",
      "[100]\tvalid_0's rmse: 7674.26\n",
      "[200]\tvalid_0's rmse: 7341.19\n",
      "[300]\tvalid_0's rmse: 7430.5\n",
      "Early stopping, best iteration is:\n",
      "[200]\tvalid_0's rmse: 7341.19\n"
     ]
    },
    {
     "name": "stderr",
     "output_type": "stream",
     "text": [
      "\u001b[32m[I 2022-04-22 14:04:38,862]\u001b[0m Trial 34 finished with value: 7341.190574184246 and parameters: {'n_estimators': 1000, 'reg_alpha': 0.0023314009710856034, 'reg_lambda': 0.0021868623114460724, 'colsample_bytree': 0.5, 'subsample': 0.6, 'learning_rate': 0.008, 'max_depth': 7, 'num_leaves': 353, 'min_child_samples': 45, 'min_data_per_groups': 81}. Best is trial 8 with value: 7263.847092796182.\u001b[0m\n"
     ]
    },
    {
     "name": "stdout",
     "output_type": "stream",
     "text": [
      "Training until validation scores don't improve for 100 rounds\n"
     ]
    },
    {
     "name": "stderr",
     "output_type": "stream",
     "text": [
      "\u001b[32m[I 2022-04-22 14:04:39,407]\u001b[0m Trial 35 finished with value: 7297.402025677863 and parameters: {'n_estimators': 500, 'reg_alpha': 0.0010734409281992442, 'reg_lambda': 0.03772776266576703, 'colsample_bytree': 0.5, 'subsample': 0.6, 'learning_rate': 0.017, 'max_depth': 15, 'num_leaves': 645, 'min_child_samples': 37, 'min_data_per_groups': 74}. Best is trial 8 with value: 7263.847092796182.\u001b[0m\n"
     ]
    },
    {
     "name": "stdout",
     "output_type": "stream",
     "text": [
      "[100]\tvalid_0's rmse: 7299.46\n",
      "[200]\tvalid_0's rmse: 7427.6\n",
      "Early stopping, best iteration is:\n",
      "[113]\tvalid_0's rmse: 7297.4\n",
      "Training until validation scores don't improve for 100 rounds\n",
      "[100]\tvalid_0's rmse: 7551.75\n"
     ]
    },
    {
     "name": "stderr",
     "output_type": "stream",
     "text": [
      "\u001b[32m[I 2022-04-22 14:04:40,219]\u001b[0m Trial 36 finished with value: 7358.579725204465 and parameters: {'n_estimators': 1250, 'reg_alpha': 0.010076320046214596, 'reg_lambda': 0.0022324098911393098, 'colsample_bytree': 0.8, 'subsample': 1.0, 'learning_rate': 0.01, 'max_depth': 12, 'num_leaves': 403, 'min_child_samples': 16, 'min_data_per_groups': 84}. Best is trial 8 with value: 7263.847092796182.\u001b[0m\n"
     ]
    },
    {
     "name": "stdout",
     "output_type": "stream",
     "text": [
      "[200]\tvalid_0's rmse: 7359.97\n",
      "[300]\tvalid_0's rmse: 7412.96\n",
      "Early stopping, best iteration is:\n",
      "[203]\tvalid_0's rmse: 7358.58\n",
      "Training until validation scores don't improve for 100 rounds\n",
      "[100]\tvalid_0's rmse: 7772.42\n",
      "[200]\tvalid_0's rmse: 7390.37\n",
      "[300]\tvalid_0's rmse: 7363.42\n",
      "Early stopping, best iteration is:\n",
      "[254]\tvalid_0's rmse: 7356.6\n"
     ]
    },
    {
     "name": "stderr",
     "output_type": "stream",
     "text": [
      "\u001b[32m[I 2022-04-22 14:04:40,472]\u001b[0m Trial 37 finished with value: 7356.60331794936 and parameters: {'n_estimators': 500, 'reg_alpha': 0.005519855880839055, 'reg_lambda': 0.0062577214029190375, 'colsample_bytree': 0.6, 'subsample': 0.5, 'learning_rate': 0.008, 'max_depth': 7, 'num_leaves': 248, 'min_child_samples': 111, 'min_data_per_groups': 44}. Best is trial 8 with value: 7263.847092796182.\u001b[0m\n"
     ]
    },
    {
     "name": "stdout",
     "output_type": "stream",
     "text": [
      "Training until validation scores don't improve for 100 rounds\n",
      "[100]\tvalid_0's rmse: 7970.02\n",
      "[200]\tvalid_0's rmse: 7401.62\n",
      "[300]\tvalid_0's rmse: 7346.9\n"
     ]
    },
    {
     "name": "stderr",
     "output_type": "stream",
     "text": [
      "\u001b[32m[I 2022-04-22 14:04:40,739]\u001b[0m Trial 38 finished with value: 7343.378167446537 and parameters: {'n_estimators': 1000, 'reg_alpha': 0.24590040863143486, 'reg_lambda': 0.016735729887660606, 'colsample_bytree': 0.5, 'subsample': 0.5, 'learning_rate': 0.006, 'max_depth': 7, 'num_leaves': 698, 'min_child_samples': 70, 'min_data_per_groups': 56}. Best is trial 8 with value: 7263.847092796182.\u001b[0m\n"
     ]
    },
    {
     "name": "stdout",
     "output_type": "stream",
     "text": [
      "Early stopping, best iteration is:\n",
      "[292]\tvalid_0's rmse: 7343.38\n",
      "Training until validation scores don't improve for 100 rounds\n",
      "[100]\tvalid_0's rmse: 7618.17\n",
      "[200]\tvalid_0's rmse: 7546.98\n",
      "Did not meet early stopping. Best iteration is:\n",
      "[167]\tvalid_0's rmse: 7529.34\n"
     ]
    },
    {
     "name": "stderr",
     "output_type": "stream",
     "text": [
      "\u001b[32m[I 2022-04-22 14:04:40,935]\u001b[0m Trial 39 finished with value: 7529.340134102238 and parameters: {'n_estimators': 250, 'reg_alpha': 0.002830288732560486, 'reg_lambda': 0.001031655061840231, 'colsample_bytree': 0.4, 'subsample': 1.0, 'learning_rate': 0.014, 'max_depth': 12, 'num_leaves': 298, 'min_child_samples': 250, 'min_data_per_groups': 70}. Best is trial 8 with value: 7263.847092796182.\u001b[0m\n",
      "\u001b[32m[I 2022-04-22 14:04:41,131]\u001b[0m Trial 40 finished with value: 7366.70866793358 and parameters: {'n_estimators': 100, 'reg_alpha': 1.2033882704420829, 'reg_lambda': 0.03431212273907242, 'colsample_bytree': 1.0, 'subsample': 0.7, 'learning_rate': 0.017, 'max_depth': 15, 'num_leaves': 514, 'min_child_samples': 81, 'min_data_per_groups': 87}. Best is trial 8 with value: 7263.847092796182.\u001b[0m\n"
     ]
    },
    {
     "name": "stdout",
     "output_type": "stream",
     "text": [
      "Training until validation scores don't improve for 100 rounds\n",
      "[100]\tvalid_0's rmse: 7366.71\n",
      "Did not meet early stopping. Best iteration is:\n",
      "[100]\tvalid_0's rmse: 7366.71\n",
      "Training until validation scores don't improve for 100 rounds\n"
     ]
    },
    {
     "name": "stderr",
     "output_type": "stream",
     "text": [
      "\u001b[32m[I 2022-04-22 14:04:41,414]\u001b[0m Trial 41 finished with value: 7380.297788878749 and parameters: {'n_estimators': 500, 'reg_alpha': 0.0012643640580754921, 'reg_lambda': 0.008798511542435649, 'colsample_bytree': 0.5, 'subsample': 0.6, 'learning_rate': 0.01, 'max_depth': 7, 'num_leaves': 470, 'min_child_samples': 17, 'min_data_per_groups': 89}. Best is trial 8 with value: 7263.847092796182.\u001b[0m\n"
     ]
    },
    {
     "name": "stdout",
     "output_type": "stream",
     "text": [
      "[100]\tvalid_0's rmse: 7638.85\n",
      "[200]\tvalid_0's rmse: 7396.66\n",
      "[300]\tvalid_0's rmse: 7436.31\n",
      "Early stopping, best iteration is:\n",
      "[224]\tvalid_0's rmse: 7380.3\n",
      "Training until validation scores don't improve for 100 rounds\n"
     ]
    },
    {
     "name": "stderr",
     "output_type": "stream",
     "text": [
      "\u001b[32m[I 2022-04-22 14:04:41,672]\u001b[0m Trial 42 finished with value: 7285.6703249465145 and parameters: {'n_estimators': 500, 'reg_alpha': 0.0010164611580631745, 'reg_lambda': 0.002805852568011058, 'colsample_bytree': 0.5, 'subsample': 0.6, 'learning_rate': 0.01, 'max_depth': 7, 'num_leaves': 610, 'min_child_samples': 22, 'min_data_per_groups': 96}. Best is trial 8 with value: 7263.847092796182.\u001b[0m\n"
     ]
    },
    {
     "name": "stdout",
     "output_type": "stream",
     "text": [
      "[100]\tvalid_0's rmse: 7529.14\n",
      "[200]\tvalid_0's rmse: 7286.6\n",
      "Early stopping, best iteration is:\n",
      "[199]\tvalid_0's rmse: 7285.67\n",
      "Training until validation scores don't improve for 100 rounds\n"
     ]
    },
    {
     "name": "stderr",
     "output_type": "stream",
     "text": [
      "\u001b[32m[I 2022-04-22 14:04:41,906]\u001b[0m Trial 43 finished with value: 7347.65027428241 and parameters: {'n_estimators': 500, 'reg_alpha': 0.00237619918276773, 'reg_lambda': 0.0018269273511573607, 'colsample_bytree': 0.5, 'subsample': 0.6, 'learning_rate': 0.01, 'max_depth': 7, 'num_leaves': 754, 'min_child_samples': 55, 'min_data_per_groups': 95}. Best is trial 8 with value: 7263.847092796182.\u001b[0m\n"
     ]
    },
    {
     "name": "stdout",
     "output_type": "stream",
     "text": [
      "[100]\tvalid_0's rmse: 7496.55\n",
      "[200]\tvalid_0's rmse: 7366.34\n",
      "Early stopping, best iteration is:\n",
      "[156]\tvalid_0's rmse: 7347.65\n",
      "Training until validation scores don't improve for 100 rounds\n"
     ]
    },
    {
     "name": "stderr",
     "output_type": "stream",
     "text": [
      "\u001b[32m[I 2022-04-22 14:04:42,385]\u001b[0m Trial 44 finished with value: 7580.386226166961 and parameters: {'n_estimators': 2000, 'reg_alpha': 0.0016918038535250904, 'reg_lambda': 0.002973879381999548, 'colsample_bytree': 0.9, 'subsample': 0.6, 'learning_rate': 0.01, 'max_depth': 7, 'num_leaves': 595, 'min_child_samples': 10, 'min_data_per_groups': 95}. Best is trial 8 with value: 7263.847092796182.\u001b[0m\n"
     ]
    },
    {
     "name": "stdout",
     "output_type": "stream",
     "text": [
      "[100]\tvalid_0's rmse: 7752.19\n",
      "[200]\tvalid_0's rmse: 7622.62\n",
      "Early stopping, best iteration is:\n",
      "[167]\tvalid_0's rmse: 7580.39\n"
     ]
    },
    {
     "name": "stderr",
     "output_type": "stream",
     "text": [
      "\u001b[32m[I 2022-04-22 14:04:42,516]\u001b[0m Trial 45 finished with value: 7297.498012207293 and parameters: {'n_estimators': 500, 'reg_alpha': 8.046398506920204, 'reg_lambda': 0.0017123410536480433, 'colsample_bytree': 0.3, 'subsample': 0.4, 'learning_rate': 0.006, 'max_depth': 3, 'num_leaves': 364, 'min_child_samples': 39, 'min_data_per_groups': 80}. Best is trial 8 with value: 7263.847092796182.\u001b[0m\n"
     ]
    },
    {
     "name": "stdout",
     "output_type": "stream",
     "text": [
      "Training until validation scores don't improve for 100 rounds\n",
      "[100]\tvalid_0's rmse: 8105.9\n",
      "[200]\tvalid_0's rmse: 7448.86\n",
      "[300]\tvalid_0's rmse: 7304.57\n",
      "[400]\tvalid_0's rmse: 7322.6\n",
      "Early stopping, best iteration is:\n",
      "[331]\tvalid_0's rmse: 7297.5\n",
      "Training until validation scores don't improve for 100 rounds\n",
      "[100]\tvalid_0's rmse: 7487.91\n",
      "[200]\tvalid_0's rmse: 7508.69\n",
      "Early stopping, best iteration is:\n",
      "[129]\tvalid_0's rmse: 7462.64\n"
     ]
    },
    {
     "name": "stderr",
     "output_type": "stream",
     "text": [
      "\u001b[32m[I 2022-04-22 14:04:42,626]\u001b[0m Trial 46 finished with value: 7462.643418894582 and parameters: {'n_estimators': 1250, 'reg_alpha': 0.0015213182501488199, 'reg_lambda': 0.0038555295308327644, 'colsample_bytree': 0.7, 'subsample': 0.8, 'learning_rate': 0.02, 'max_depth': 5, 'num_leaves': 591, 'min_child_samples': 188, 'min_data_per_groups': 100}. Best is trial 8 with value: 7263.847092796182.\u001b[0m\n"
     ]
    },
    {
     "name": "stdout",
     "output_type": "stream",
     "text": [
      "Training until validation scores don't improve for 100 rounds\n",
      "[100]\tvalid_0's rmse: 7504.99\n"
     ]
    },
    {
     "name": "stderr",
     "output_type": "stream",
     "text": [
      "\u001b[32m[I 2022-04-22 14:04:43,055]\u001b[0m Trial 47 finished with value: 7295.006707619093 and parameters: {'n_estimators': 1000, 'reg_alpha': 0.01332378831566878, 'reg_lambda': 0.006628585551407009, 'colsample_bytree': 0.5, 'subsample': 0.6, 'learning_rate': 0.01, 'max_depth': 10, 'num_leaves': 652, 'min_child_samples': 26, 'min_data_per_groups': 76}. Best is trial 8 with value: 7263.847092796182.\u001b[0m\n"
     ]
    },
    {
     "name": "stdout",
     "output_type": "stream",
     "text": [
      "[200]\tvalid_0's rmse: 7300.72\n",
      "Early stopping, best iteration is:\n",
      "[175]\tvalid_0's rmse: 7295.01\n",
      "Training until validation scores don't improve for 100 rounds\n",
      "[100]\tvalid_0's rmse: 8009.9\n"
     ]
    },
    {
     "name": "stderr",
     "output_type": "stream",
     "text": [
      "\u001b[32m[I 2022-04-22 14:04:43,398]\u001b[0m Trial 48 finished with value: 7313.983923411407 and parameters: {'n_estimators': 500, 'reg_alpha': 0.0010005607086849629, 'reg_lambda': 0.06283525699766657, 'colsample_bytree': 0.4, 'subsample': 0.8, 'learning_rate': 0.006, 'max_depth': 7, 'num_leaves': 532, 'min_child_samples': 57, 'min_data_per_groups': 66}. Best is trial 8 with value: 7263.847092796182.\u001b[0m\n"
     ]
    },
    {
     "name": "stdout",
     "output_type": "stream",
     "text": [
      "[200]\tvalid_0's rmse: 7410.99\n",
      "[300]\tvalid_0's rmse: 7316.4\n",
      "Early stopping, best iteration is:\n",
      "[282]\tvalid_0's rmse: 7313.98\n",
      "Training until validation scores don't improve for 100 rounds\n"
     ]
    },
    {
     "name": "stderr",
     "output_type": "stream",
     "text": [
      "\u001b[32m[I 2022-04-22 14:04:43,666]\u001b[0m Trial 49 finished with value: 7370.233440136633 and parameters: {'n_estimators': 750, 'reg_alpha': 0.003589946351202035, 'reg_lambda': 0.024026758117131126, 'colsample_bytree': 0.9, 'subsample': 0.5, 'learning_rate': 0.008, 'max_depth': 7, 'num_leaves': 736, 'min_child_samples': 81, 'min_data_per_groups': 34}. Best is trial 8 with value: 7263.847092796182.\u001b[0m\n"
     ]
    },
    {
     "name": "stdout",
     "output_type": "stream",
     "text": [
      "[100]\tvalid_0's rmse: 7736.7\n",
      "[200]\tvalid_0's rmse: 7386.77\n",
      "[300]\tvalid_0's rmse: 7400.8\n",
      "Early stopping, best iteration is:\n",
      "[240]\tvalid_0's rmse: 7370.23\n",
      "Number of finished trials: 50\n",
      "Best trial: {'n_estimators': 1000, 'reg_alpha': 0.0016119218181259286, 'reg_lambda': 0.002509094868592898, 'colsample_bytree': 0.9, 'subsample': 0.7, 'learning_rate': 0.006, 'max_depth': 7, 'num_leaves': 436, 'min_child_samples': 23, 'min_data_per_groups': 62}\n"
     ]
    }
   ],
   "source": [
    "study = optuna.create_study(direction='minimize')\n",
    "objective = get_objective(X_train, X_val, y_train, y_val)\n",
    "study.optimize(objective, n_trials=50)\n",
    "print('Number of finished trials:', len(study.trials))\n",
    "print('Best trial:', study.best_trial.params)"
   ]
  },
  {
   "cell_type": "markdown",
   "id": "a9f45be7",
   "metadata": {},
   "source": [
    "Let's create an LGBMRegresor with the best hyperparameters found in the previous study"
   ]
  },
  {
   "cell_type": "code",
   "execution_count": 31,
   "id": "4ffdfb07",
   "metadata": {},
   "outputs": [
    {
     "data": {
      "text/plain": [
       "{'n_estimators': 1000,\n",
       " 'reg_alpha': 0.0016119218181259286,\n",
       " 'reg_lambda': 0.002509094868592898,\n",
       " 'colsample_bytree': 0.9,\n",
       " 'subsample': 0.7,\n",
       " 'learning_rate': 0.006,\n",
       " 'max_depth': 7,\n",
       " 'num_leaves': 436,\n",
       " 'min_child_samples': 23,\n",
       " 'min_data_per_groups': 62,\n",
       " 'random_state': 48,\n",
       " 'metric': 'rmse'}"
      ]
     },
     "execution_count": 31,
     "metadata": {},
     "output_type": "execute_result"
    }
   ],
   "source": [
    "params=study.best_params   \n",
    "params['random_state'] = 48\n",
    "params['metric'] = 'rmse'\n",
    "params"
   ]
  },
  {
   "cell_type": "code",
   "execution_count": 32,
   "id": "e765f749",
   "metadata": {},
   "outputs": [],
   "source": [
    "_ = params.pop('min_data_per_groups') # no such parameter in light gbm\n",
    "model = LGBMRegressor(**params)\n",
    "model.fit(X_train,y_train)\n",
    "r2 = model.score(X_val, y_val)\n"
   ]
  },
  {
   "cell_type": "code",
   "execution_count": 33,
   "id": "2159bc24",
   "metadata": {},
   "outputs": [
    {
     "name": "stdout",
     "output_type": "stream",
     "text": [
      "Light gbm r2 after hyper parameters tuning: 0.39505408879971415\n"
     ]
    }
   ],
   "source": [
    "r2 = model.score(X_val, y_val)\n",
    "print(f'Light gbm r2 after hyper parameters tuning: {r2}')"
   ]
  },
  {
   "cell_type": "code",
   "execution_count": 34,
   "id": "b0c3f2fc",
   "metadata": {},
   "outputs": [],
   "source": [
    "from src.model import save_model, load_model"
   ]
  },
  {
   "cell_type": "code",
   "execution_count": 38,
   "id": "02a3f425",
   "metadata": {},
   "outputs": [],
   "source": [
    "save_model(model,'lgb2')"
   ]
  },
  {
   "cell_type": "code",
   "execution_count": 39,
   "id": "55537495",
   "metadata": {},
   "outputs": [],
   "source": [
    "m = load_model('lgb2')"
   ]
  },
  {
   "cell_type": "code",
   "execution_count": 40,
   "id": "17bd1748",
   "metadata": {},
   "outputs": [],
   "source": [
    "r2 = m.score(X_val, y_val)"
   ]
  },
  {
   "cell_type": "code",
   "execution_count": 41,
   "id": "4ade053e",
   "metadata": {},
   "outputs": [
    {
     "data": {
      "text/plain": [
       "0.39505408879971415"
      ]
     },
     "execution_count": 41,
     "metadata": {},
     "output_type": "execute_result"
    }
   ],
   "source": [
    "r2"
   ]
  },
  {
   "cell_type": "code",
   "execution_count": null,
   "id": "9b7b7344",
   "metadata": {},
   "outputs": [],
   "source": []
  }
 ],
 "metadata": {
  "kernelspec": {
   "display_name": "mansa",
   "language": "python",
   "name": "mansa"
  },
  "language_info": {
   "codemirror_mode": {
    "name": "ipython",
    "version": 3
   },
   "file_extension": ".py",
   "mimetype": "text/x-python",
   "name": "python",
   "nbconvert_exporter": "python",
   "pygments_lexer": "ipython3",
   "version": "3.9.12"
  }
 },
 "nbformat": 4,
 "nbformat_minor": 5
}
