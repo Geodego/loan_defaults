{
 "cells": [
  {
   "cell_type": "markdown",
   "id": "1ee54a1c",
   "metadata": {},
   "source": [
    "# Mansa loans"
   ]
  },
  {
   "cell_type": "markdown",
   "id": "cfdd1d4e",
   "metadata": {},
   "source": [
    "## EDA"
   ]
  },
  {
   "cell_type": "markdown",
   "id": "bba4252d",
   "metadata": {},
   "source": [
    "We start by performing an EDA of the datasets."
   ]
  },
  {
   "cell_type": "code",
   "execution_count": 1,
   "id": "775cb7c2",
   "metadata": {},
   "outputs": [],
   "source": [
    "import pandas as pd\n",
    "from src.data_tools import get_data"
   ]
  },
  {
   "cell_type": "code",
   "execution_count": 2,
   "id": "e1e80ab3",
   "metadata": {},
   "outputs": [],
   "source": [
    "# read the csv files\n",
    "df_accounts = get_data(\"data/accounts.csv\")\n",
    "df_transactions = get_data(\"data/transactions.csv\")"
   ]
  },
  {
   "cell_type": "code",
   "execution_count": 3,
   "id": "5c8ef0c5",
   "metadata": {},
   "outputs": [
    {
     "data": {
      "text/html": [
       "<div>\n",
       "<style scoped>\n",
       "    .dataframe tbody tr th:only-of-type {\n",
       "        vertical-align: middle;\n",
       "    }\n",
       "\n",
       "    .dataframe tbody tr th {\n",
       "        vertical-align: top;\n",
       "    }\n",
       "\n",
       "    .dataframe thead th {\n",
       "        text-align: right;\n",
       "    }\n",
       "</style>\n",
       "<table border=\"1\" class=\"dataframe\">\n",
       "  <thead>\n",
       "    <tr style=\"text-align: right;\">\n",
       "      <th></th>\n",
       "      <th>id</th>\n",
       "      <th>balance</th>\n",
       "      <th>update_date</th>\n",
       "    </tr>\n",
       "  </thead>\n",
       "  <tbody>\n",
       "    <tr>\n",
       "      <th>0</th>\n",
       "      <td>0</td>\n",
       "      <td>13.63</td>\n",
       "      <td>2021-07-02</td>\n",
       "    </tr>\n",
       "    <tr>\n",
       "      <th>1</th>\n",
       "      <td>1</td>\n",
       "      <td>12.91</td>\n",
       "      <td>2021-07-02</td>\n",
       "    </tr>\n",
       "    <tr>\n",
       "      <th>2</th>\n",
       "      <td>2</td>\n",
       "      <td>19.84</td>\n",
       "      <td>2021-07-02</td>\n",
       "    </tr>\n",
       "    <tr>\n",
       "      <th>3</th>\n",
       "      <td>3</td>\n",
       "      <td>130.00</td>\n",
       "      <td>2021-07-02</td>\n",
       "    </tr>\n",
       "    <tr>\n",
       "      <th>4</th>\n",
       "      <td>4</td>\n",
       "      <td>2806.75</td>\n",
       "      <td>2021-07-02</td>\n",
       "    </tr>\n",
       "  </tbody>\n",
       "</table>\n",
       "</div>"
      ],
      "text/plain": [
       "   id  balance update_date\n",
       "0   0    13.63  2021-07-02\n",
       "1   1    12.91  2021-07-02\n",
       "2   2    19.84  2021-07-02\n",
       "3   3   130.00  2021-07-02\n",
       "4   4  2806.75  2021-07-02"
      ]
     },
     "execution_count": 3,
     "metadata": {},
     "output_type": "execute_result"
    }
   ],
   "source": [
    "df_accounts.head()"
   ]
  },
  {
   "cell_type": "code",
   "execution_count": 4,
   "id": "d31475fa",
   "metadata": {},
   "outputs": [
    {
     "data": {
      "text/html": [
       "<div>\n",
       "<style scoped>\n",
       "    .dataframe tbody tr th:only-of-type {\n",
       "        vertical-align: middle;\n",
       "    }\n",
       "\n",
       "    .dataframe tbody tr th {\n",
       "        vertical-align: top;\n",
       "    }\n",
       "\n",
       "    .dataframe thead th {\n",
       "        text-align: right;\n",
       "    }\n",
       "</style>\n",
       "<table border=\"1\" class=\"dataframe\">\n",
       "  <thead>\n",
       "    <tr style=\"text-align: right;\">\n",
       "      <th></th>\n",
       "      <th>account_id</th>\n",
       "      <th>date</th>\n",
       "      <th>amount</th>\n",
       "    </tr>\n",
       "  </thead>\n",
       "  <tbody>\n",
       "    <tr>\n",
       "      <th>0</th>\n",
       "      <td>0</td>\n",
       "      <td>2020-10-16</td>\n",
       "      <td>200.0</td>\n",
       "    </tr>\n",
       "    <tr>\n",
       "      <th>1</th>\n",
       "      <td>0</td>\n",
       "      <td>2020-10-16</td>\n",
       "      <td>-192.0</td>\n",
       "    </tr>\n",
       "    <tr>\n",
       "      <th>2</th>\n",
       "      <td>0</td>\n",
       "      <td>2020-10-16</td>\n",
       "      <td>200.0</td>\n",
       "    </tr>\n",
       "    <tr>\n",
       "      <th>3</th>\n",
       "      <td>0</td>\n",
       "      <td>2020-10-16</td>\n",
       "      <td>-24.0</td>\n",
       "    </tr>\n",
       "    <tr>\n",
       "      <th>4</th>\n",
       "      <td>0</td>\n",
       "      <td>2020-10-16</td>\n",
       "      <td>-50.0</td>\n",
       "    </tr>\n",
       "  </tbody>\n",
       "</table>\n",
       "</div>"
      ],
      "text/plain": [
       "   account_id       date  amount\n",
       "0           0 2020-10-16   200.0\n",
       "1           0 2020-10-16  -192.0\n",
       "2           0 2020-10-16   200.0\n",
       "3           0 2020-10-16   -24.0\n",
       "4           0 2020-10-16   -50.0"
      ]
     },
     "execution_count": 4,
     "metadata": {},
     "output_type": "execute_result"
    }
   ],
   "source": [
    "df_transactions.head()"
   ]
  },
  {
   "cell_type": "markdown",
   "id": "9519cc7f",
   "metadata": {},
   "source": [
    "#### Checking for null values"
   ]
  },
  {
   "cell_type": "code",
   "execution_count": 5,
   "id": "f944d3e9",
   "metadata": {},
   "outputs": [
    {
     "data": {
      "text/plain": [
       "id             False\n",
       "balance        False\n",
       "update_date    False\n",
       "dtype: bool"
      ]
     },
     "execution_count": 5,
     "metadata": {},
     "output_type": "execute_result"
    }
   ],
   "source": [
    "df_accounts.isna().any()"
   ]
  },
  {
   "cell_type": "code",
   "execution_count": 6,
   "id": "832d595b",
   "metadata": {},
   "outputs": [
    {
     "data": {
      "text/plain": [
       "account_id    False\n",
       "date          False\n",
       "amount        False\n",
       "dtype: bool"
      ]
     },
     "execution_count": 6,
     "metadata": {},
     "output_type": "execute_result"
    }
   ],
   "source": [
    "df_transactions.isna().any()"
   ]
  },
  {
   "cell_type": "markdown",
   "id": "2e9cd40d",
   "metadata": {},
   "source": [
    "There is no null value in any of the two datasets.\n"
   ]
  },
  {
   "cell_type": "markdown",
   "id": "45a37a15",
   "metadata": {},
   "source": [
    "#### Checking for duplicates"
   ]
  },
  {
   "cell_type": "code",
   "execution_count": 7,
   "id": "5439231a",
   "metadata": {},
   "outputs": [
    {
     "data": {
      "text/plain": [
       "False"
      ]
     },
     "execution_count": 7,
     "metadata": {},
     "output_type": "execute_result"
    }
   ],
   "source": [
    "df_accounts.duplicated().any()"
   ]
  },
  {
   "cell_type": "code",
   "execution_count": 8,
   "id": "cf215737",
   "metadata": {},
   "outputs": [
    {
     "data": {
      "text/plain": [
       "True"
      ]
     },
     "execution_count": 8,
     "metadata": {},
     "output_type": "execute_result"
    }
   ],
   "source": [
    "df_transactions.duplicated().any()"
   ]
  },
  {
   "cell_type": "markdown",
   "id": "3ad6cc5b",
   "metadata": {},
   "source": [
    "There are duplicates in the transactions. Lets look at some of them"
   ]
  },
  {
   "cell_type": "code",
   "execution_count": 9,
   "id": "403fd8ae",
   "metadata": {},
   "outputs": [
    {
     "name": "stdout",
     "output_type": "stream",
     "text": [
      "there are 28661 duplicates in transactions.csv, representing 5% of the data.\n"
     ]
    }
   ],
   "source": [
    "n_duplicated = df_transactions.duplicated().sum()\n",
    "dup_percent = int(n_duplicated / df_transactions.shape[0]*100)\n",
    "print(f'there are {n_duplicated} duplicates in transactions.csv, representing {dup_percent}% of the data.')"
   ]
  },
  {
   "cell_type": "code",
   "execution_count": 10,
   "id": "7567b882",
   "metadata": {},
   "outputs": [
    {
     "data": {
      "text/html": [
       "<div>\n",
       "<style scoped>\n",
       "    .dataframe tbody tr th:only-of-type {\n",
       "        vertical-align: middle;\n",
       "    }\n",
       "\n",
       "    .dataframe tbody tr th {\n",
       "        vertical-align: top;\n",
       "    }\n",
       "\n",
       "    .dataframe thead th {\n",
       "        text-align: right;\n",
       "    }\n",
       "</style>\n",
       "<table border=\"1\" class=\"dataframe\">\n",
       "  <thead>\n",
       "    <tr style=\"text-align: right;\">\n",
       "      <th></th>\n",
       "      <th>account_id</th>\n",
       "      <th>date</th>\n",
       "      <th>amount</th>\n",
       "    </tr>\n",
       "  </thead>\n",
       "  <tbody>\n",
       "    <tr>\n",
       "      <th>2</th>\n",
       "      <td>0</td>\n",
       "      <td>2020-10-16</td>\n",
       "      <td>200.0</td>\n",
       "    </tr>\n",
       "    <tr>\n",
       "      <th>11</th>\n",
       "      <td>0</td>\n",
       "      <td>2020-10-17</td>\n",
       "      <td>0.0</td>\n",
       "    </tr>\n",
       "    <tr>\n",
       "      <th>14</th>\n",
       "      <td>0</td>\n",
       "      <td>2020-10-19</td>\n",
       "      <td>0.0</td>\n",
       "    </tr>\n",
       "    <tr>\n",
       "      <th>23</th>\n",
       "      <td>0</td>\n",
       "      <td>2020-10-21</td>\n",
       "      <td>0.0</td>\n",
       "    </tr>\n",
       "    <tr>\n",
       "      <th>45</th>\n",
       "      <td>0</td>\n",
       "      <td>2020-10-29</td>\n",
       "      <td>-5.5</td>\n",
       "    </tr>\n",
       "  </tbody>\n",
       "</table>\n",
       "</div>"
      ],
      "text/plain": [
       "    account_id       date  amount\n",
       "2            0 2020-10-16   200.0\n",
       "11           0 2020-10-17     0.0\n",
       "14           0 2020-10-19     0.0\n",
       "23           0 2020-10-21     0.0\n",
       "45           0 2020-10-29    -5.5"
      ]
     },
     "execution_count": 10,
     "metadata": {},
     "output_type": "execute_result"
    }
   ],
   "source": [
    "df_dup = df_transactions[df_transactions.duplicated()]\n",
    "df_dup.head()"
   ]
  },
  {
   "cell_type": "code",
   "execution_count": 11,
   "id": "16153070",
   "metadata": {},
   "outputs": [
    {
     "data": {
      "text/html": [
       "<div>\n",
       "<style scoped>\n",
       "    .dataframe tbody tr th:only-of-type {\n",
       "        vertical-align: middle;\n",
       "    }\n",
       "\n",
       "    .dataframe tbody tr th {\n",
       "        vertical-align: top;\n",
       "    }\n",
       "\n",
       "    .dataframe thead th {\n",
       "        text-align: right;\n",
       "    }\n",
       "</style>\n",
       "<table border=\"1\" class=\"dataframe\">\n",
       "  <thead>\n",
       "    <tr style=\"text-align: right;\">\n",
       "      <th></th>\n",
       "      <th>account_id</th>\n",
       "      <th>date</th>\n",
       "      <th>amount</th>\n",
       "    </tr>\n",
       "  </thead>\n",
       "  <tbody>\n",
       "    <tr>\n",
       "      <th>0</th>\n",
       "      <td>0</td>\n",
       "      <td>2020-10-16</td>\n",
       "      <td>200.0</td>\n",
       "    </tr>\n",
       "    <tr>\n",
       "      <th>2</th>\n",
       "      <td>0</td>\n",
       "      <td>2020-10-16</td>\n",
       "      <td>200.0</td>\n",
       "    </tr>\n",
       "  </tbody>\n",
       "</table>\n",
       "</div>"
      ],
      "text/plain": [
       "   account_id       date  amount\n",
       "0           0 2020-10-16   200.0\n",
       "2           0 2020-10-16   200.0"
      ]
     },
     "execution_count": 11,
     "metadata": {},
     "output_type": "execute_result"
    }
   ],
   "source": [
    "df_transactions[\n",
    "    (df_transactions.account_id == 0) \n",
    "    & (df_transactions.date == '2020-10-16') \n",
    "    &(df_transactions.amount == 200.0)]"
   ]
  },
  {
   "cell_type": "markdown",
   "id": "417f5e4c",
   "metadata": {},
   "source": [
    "It is difficult, without further information to know if the above transactions are legitimate similar transactions or duplicates coming from an error when the data were processed. We decide to keep these duplicates. It would be interesting to enrich the transactions data with a transaction id. We could decide with certainty with such an id if similar transactions on a given account and a given date are duplicates or legitimates."
   ]
  },
  {
   "cell_type": "markdown",
   "id": "ea8d4bf4",
   "metadata": {},
   "source": [
    "#### Account history distribution"
   ]
  },
  {
   "cell_type": "markdown",
   "id": "f8d4921f",
   "metadata": {},
   "source": [
    "Let's check the history distribution of the different accounts in our data."
   ]
  },
  {
   "cell_type": "code",
   "execution_count": 12,
   "id": "f77054fd",
   "metadata": {},
   "outputs": [],
   "source": [
    "# we change the date column from str to datetime\n",
    "df_transactions['date'] = pd.to_datetime(df_transactions['date'])\n",
    "group = df_transactions.groupby('account_id')['date']"
   ]
  },
  {
   "cell_type": "code",
   "execution_count": 13,
   "id": "aeef24cd",
   "metadata": {},
   "outputs": [
    {
     "data": {
      "text/plain": [
       "account_id\n",
       "0   257 days\n",
       "1   231 days\n",
       "2   100 days\n",
       "3   176 days\n",
       "4   293 days\n",
       "dtype: timedelta64[ns]"
      ]
     },
     "execution_count": 13,
     "metadata": {},
     "output_type": "execute_result"
    }
   ],
   "source": [
    "history_df = group.agg([\"min\", \"max\"])\n",
    "history = history_df['max'] - history_df['min']\n",
    "history.head()"
   ]
  },
  {
   "cell_type": "code",
   "execution_count": 14,
   "id": "bd413a22",
   "metadata": {},
   "outputs": [
    {
     "name": "stdout",
     "output_type": "stream",
     "text": [
      "823 accounts, which represent 65% of all the accounts, have an history of more than 6 months\n"
     ]
    }
   ],
   "source": [
    "trigger = pd.Timedelta(180, \"d\")\n",
    "n_accounts = (history > trigger).sum()\n",
    "frac_long_account = int(n_accounts / len(history) * 100)\n",
    "print(f'{n_accounts} accounts, which represent {frac_long_account}% of all the accounts, have an history of more than 6 months')"
   ]
  },
  {
   "cell_type": "markdown",
   "id": "965dfe6d",
   "metadata": {},
   "source": [
    "We want to build a model that make predictions using 6 months of data so we'll focus on accounts with more than 6 months history. We use get_df_with_history to select these accounts."
   ]
  },
  {
   "cell_type": "code",
   "execution_count": 15,
   "id": "052e660b",
   "metadata": {},
   "outputs": [],
   "source": [
    "from src.data_tools import get_df_with_history\n",
    "df_accounts, df_transactions = get_df_with_history(df_accounts, df_transactions)"
   ]
  },
  {
   "cell_type": "code",
   "execution_count": 16,
   "id": "8807f01e",
   "metadata": {},
   "outputs": [
    {
     "name": "stdout",
     "output_type": "stream",
     "text": [
      "We are left with 860 accounts in df_accounts and 860 in df_transactions which is as expected.\n"
     ]
    }
   ],
   "source": [
    "n_transac = len(set(df_transactions['account_id']))\n",
    "print(f'We are left with {len(df_accounts)} accounts in df_accounts and {n_transac} in df_transactions which is as expected.')"
   ]
  },
  {
   "cell_type": "markdown",
   "id": "875ffdab",
   "metadata": {},
   "source": [
    "## Processing the data for training"
   ]
  },
  {
   "cell_type": "markdown",
   "id": "8a1d6885",
   "metadata": {},
   "source": [
    "We are looking to predict the next month outgoing given the last 6 month of transaction. For that purpose it make sense to divide the history of transactions in 30 days buckets and to calculate the total amount of inflow and outflow for each 30 days bucket. \n",
    "\n",
    "When processing the data, we keep the last 2 months for testing and the previous 2 months for validation so that we are sure there is no data leakage when training and testing. \n",
    " \n",
    "For some accounts there are more than 11 months of data. In this case we'll get from the account several training \n",
    "samples. For example if an account has 12 month of data, the last 4 months are used for validation and testing, so we \n",
    "are left with 8 months of data for training. We'll have then 2 training samples from this account (2 rows in X_train):\n",
    "  - one sample with the first 6 months for predicting the 7 month\n",
    "  - A second sample with the 2nd month to the 7th month for predicting the 8th month."
   ]
  },
  {
   "cell_type": "code",
   "execution_count": 17,
   "id": "d7873dc7",
   "metadata": {},
   "outputs": [],
   "source": [
    "from src.data_tools import get_training_data\n",
    "# When processing the data, we keep the last 2 months for testing and the previous 2 months for validation\n",
    "training_data = get_training_data(test_size=2)"
   ]
  },
  {
   "cell_type": "code",
   "execution_count": 18,
   "id": "e9aa8b8b",
   "metadata": {},
   "outputs": [
    {
     "data": {
      "text/plain": [
       "dict_keys(['train', 'val', 'test'])"
      ]
     },
     "execution_count": 18,
     "metadata": {},
     "output_type": "execute_result"
    }
   ],
   "source": [
    "training_data.keys()"
   ]
  },
  {
   "cell_type": "code",
   "execution_count": 19,
   "id": "5d11dde0",
   "metadata": {},
   "outputs": [
    {
     "data": {
      "text/plain": [
       "dict_keys(['X', 'y'])"
      ]
     },
     "execution_count": 19,
     "metadata": {},
     "output_type": "execute_result"
    }
   ],
   "source": [
    "training_data['train'].keys()"
   ]
  },
  {
   "cell_type": "markdown",
   "id": "26296975",
   "metadata": {},
   "source": [
    "The data are split between training, validation and test. Each of these split is a dictionary with the input of the model: 'X' and the target variable: 'y'. Let's check the relative proportion of these different splits:"
   ]
  },
  {
   "cell_type": "code",
   "execution_count": 20,
   "id": "7e81fb1b",
   "metadata": {},
   "outputs": [
    {
     "name": "stdout",
     "output_type": "stream",
     "text": [
      "There is a total of 13520 data\n",
      "75.5% for training, 12.3% for validation and 12.2% for testing\n"
     ]
    }
   ],
   "source": [
    "n_train = training_data['train']['X'].shape[0]\n",
    "n_val = training_data['val']['X'].shape[0]\n",
    "n_test = training_data['test']['X'].shape[0]\n",
    "n = n_train + n_val + n_test\n",
    "print(f'There is a total of {n} data')\n",
    "print(f'{n_train/n*100:.1f}% for training, {n_val/n*100:.1f}% for validation and {n_test/n*100:.1f}% for testing')"
   ]
  },
  {
   "cell_type": "markdown",
   "id": "6dfa23c8",
   "metadata": {},
   "source": [
    "This is an acceptable split of the data for training our model. Lets look at how the data were processed:"
   ]
  },
  {
   "cell_type": "code",
   "execution_count": 21,
   "id": "61e72b4c",
   "metadata": {},
   "outputs": [
    {
     "data": {
      "text/html": [
       "<div>\n",
       "<style scoped>\n",
       "    .dataframe tbody tr th:only-of-type {\n",
       "        vertical-align: middle;\n",
       "    }\n",
       "\n",
       "    .dataframe tbody tr th {\n",
       "        vertical-align: top;\n",
       "    }\n",
       "\n",
       "    .dataframe thead th {\n",
       "        text-align: right;\n",
       "    }\n",
       "</style>\n",
       "<table border=\"1\" class=\"dataframe\">\n",
       "  <thead>\n",
       "    <tr style=\"text-align: right;\">\n",
       "      <th></th>\n",
       "      <th>1M inflow</th>\n",
       "      <th>2M inflow</th>\n",
       "      <th>3M inflow</th>\n",
       "      <th>4M inflow</th>\n",
       "      <th>5M inflow</th>\n",
       "      <th>6M inflow</th>\n",
       "      <th>1M outflow</th>\n",
       "      <th>2M outflow</th>\n",
       "      <th>3M outflow</th>\n",
       "      <th>4M outflow</th>\n",
       "      <th>5M outflow</th>\n",
       "      <th>6M outflow</th>\n",
       "      <th>initial_balance</th>\n",
       "    </tr>\n",
       "  </thead>\n",
       "  <tbody>\n",
       "    <tr>\n",
       "      <th>0</th>\n",
       "      <td>90.00</td>\n",
       "      <td>0.00</td>\n",
       "      <td>0.00</td>\n",
       "      <td>50.00</td>\n",
       "      <td>0.00</td>\n",
       "      <td>0.00</td>\n",
       "      <td>0.00</td>\n",
       "      <td>-50.00</td>\n",
       "      <td>-50.00</td>\n",
       "      <td>-100.00</td>\n",
       "      <td>-50.00</td>\n",
       "      <td>-50.00</td>\n",
       "      <td>2525.00</td>\n",
       "    </tr>\n",
       "    <tr>\n",
       "      <th>1</th>\n",
       "      <td>4138.47</td>\n",
       "      <td>5376.46</td>\n",
       "      <td>3833.00</td>\n",
       "      <td>3600.00</td>\n",
       "      <td>3097.20</td>\n",
       "      <td>2000.00</td>\n",
       "      <td>-4946.87</td>\n",
       "      <td>-4929.89</td>\n",
       "      <td>-3876.41</td>\n",
       "      <td>-4195.21</td>\n",
       "      <td>-2071.26</td>\n",
       "      <td>-1680.31</td>\n",
       "      <td>70.20</td>\n",
       "    </tr>\n",
       "    <tr>\n",
       "      <th>2</th>\n",
       "      <td>0.00</td>\n",
       "      <td>0.00</td>\n",
       "      <td>0.00</td>\n",
       "      <td>0.00</td>\n",
       "      <td>1182.00</td>\n",
       "      <td>4034.00</td>\n",
       "      <td>0.00</td>\n",
       "      <td>0.00</td>\n",
       "      <td>0.00</td>\n",
       "      <td>0.00</td>\n",
       "      <td>-21.27</td>\n",
       "      <td>-2088.17</td>\n",
       "      <td>-80.94</td>\n",
       "    </tr>\n",
       "    <tr>\n",
       "      <th>3</th>\n",
       "      <td>1705.00</td>\n",
       "      <td>646.00</td>\n",
       "      <td>231.85</td>\n",
       "      <td>312.35</td>\n",
       "      <td>455.07</td>\n",
       "      <td>4787.98</td>\n",
       "      <td>-1351.20</td>\n",
       "      <td>-1039.65</td>\n",
       "      <td>-217.80</td>\n",
       "      <td>-255.07</td>\n",
       "      <td>-271.26</td>\n",
       "      <td>-754.99</td>\n",
       "      <td>280.66</td>\n",
       "    </tr>\n",
       "    <tr>\n",
       "      <th>4</th>\n",
       "      <td>0.00</td>\n",
       "      <td>0.00</td>\n",
       "      <td>0.00</td>\n",
       "      <td>0.00</td>\n",
       "      <td>1040.00</td>\n",
       "      <td>714.00</td>\n",
       "      <td>0.00</td>\n",
       "      <td>0.00</td>\n",
       "      <td>0.00</td>\n",
       "      <td>0.00</td>\n",
       "      <td>0.00</td>\n",
       "      <td>-68.65</td>\n",
       "      <td>123.69</td>\n",
       "    </tr>\n",
       "  </tbody>\n",
       "</table>\n",
       "</div>"
      ],
      "text/plain": [
       "   1M inflow  2M inflow  3M inflow  4M inflow  5M inflow  6M inflow  \\\n",
       "0      90.00       0.00       0.00      50.00       0.00       0.00   \n",
       "1    4138.47    5376.46    3833.00    3600.00    3097.20    2000.00   \n",
       "2       0.00       0.00       0.00       0.00    1182.00    4034.00   \n",
       "3    1705.00     646.00     231.85     312.35     455.07    4787.98   \n",
       "4       0.00       0.00       0.00       0.00    1040.00     714.00   \n",
       "\n",
       "   1M outflow  2M outflow  3M outflow  4M outflow  5M outflow  6M outflow  \\\n",
       "0        0.00      -50.00      -50.00     -100.00      -50.00      -50.00   \n",
       "1    -4946.87    -4929.89    -3876.41    -4195.21    -2071.26    -1680.31   \n",
       "2        0.00        0.00        0.00        0.00      -21.27    -2088.17   \n",
       "3    -1351.20    -1039.65     -217.80     -255.07     -271.26     -754.99   \n",
       "4        0.00        0.00        0.00        0.00        0.00      -68.65   \n",
       "\n",
       "   initial_balance  \n",
       "0          2525.00  \n",
       "1            70.20  \n",
       "2           -80.94  \n",
       "3           280.66  \n",
       "4           123.69  "
      ]
     },
     "execution_count": 21,
     "metadata": {},
     "output_type": "execute_result"
    }
   ],
   "source": [
    "training_data['train']['X'].head()"
   ]
  },
  {
   "cell_type": "markdown",
   "id": "75a8a762",
   "metadata": {},
   "source": [
    "These data represent 6 months of transaction history. For example, '1M inflow' gives the total amount of positive transactions in the accounts during the first month of the history considered and '6M outflow' gives the total amount of negative transaction in the accounts during the last month of the history considered. initial_balance give the balances of the account at the beginning of the 6 months period considered."
   ]
  },
  {
   "cell_type": "markdown",
   "id": "1b218918",
   "metadata": {},
   "source": [
    "We have organised the data as needed for the next step:"
   ]
  },
  {
   "cell_type": "code",
   "execution_count": 22,
   "id": "2f37f27f",
   "metadata": {},
   "outputs": [],
   "source": [
    "X_train = training_data['train']['X']\n",
    "y_train = training_data['train']['y']\n",
    "X_val = training_data['val']['X']\n",
    "y_val = training_data['val']['y']\n",
    "X_test = training_data['test']['X']\n",
    "y_test = training_data['test']['y']\n"
   ]
  },
  {
   "cell_type": "markdown",
   "id": "1e541e68",
   "metadata": {},
   "source": [
    "## Model choice"
   ]
  },
  {
   "cell_type": "markdown",
   "id": "5a2add76",
   "metadata": {},
   "source": [
    "Given that time is limited we'll compare different model performance with their default setting to choose our model"
   ]
  },
  {
   "cell_type": "code",
   "execution_count": 23,
   "id": "a4004b57",
   "metadata": {},
   "outputs": [],
   "source": [
    "# we perform some scaling on the data. It is not necessary for tree based models but we'll keep a common \n",
    "# groundwork for our analysis\n",
    "from sklearn.preprocessing import StandardScaler\n",
    "scaler = StandardScaler()\n",
    "X_train = scaler.fit_transform(X_train)\n",
    "X_val = scaler.transform(X_val)\n"
   ]
  },
  {
   "cell_type": "markdown",
   "id": "38d68504",
   "metadata": {},
   "source": [
    "### Regression"
   ]
  },
  {
   "cell_type": "markdown",
   "id": "5e82bda2",
   "metadata": {},
   "source": [
    "Regression will give us a benchmark. It's unlikely to be the most performant model, we should be able to do better with ensemble models."
   ]
  },
  {
   "cell_type": "code",
   "execution_count": 24,
   "id": "f18e7ae1",
   "metadata": {},
   "outputs": [
    {
     "name": "stdout",
     "output_type": "stream",
     "text": [
      "Linear regression regression r2: 0.26590342126231004\n"
     ]
    }
   ],
   "source": [
    "from sklearn.linear_model import LinearRegression\n",
    "from sklearn.metrics import mean_squared_error, r2_score\n",
    "\n",
    "# we start with linear regression\n",
    "reg = LinearRegression()\n",
    "reg.fit(X_train, y_train)\n",
    "y_predict = reg.predict(X_val)\n",
    "r2 = r2_score(y_val, y_predict)\n",
    "print(f'Linear regression regression r2: {r2}')"
   ]
  },
  {
   "cell_type": "code",
   "execution_count": 25,
   "id": "b7f66457",
   "metadata": {},
   "outputs": [
    {
     "name": "stdout",
     "output_type": "stream",
     "text": [
      "Ridge regression r2: 0.26592745106054116\n"
     ]
    }
   ],
   "source": [
    "from sklearn.linear_model import Ridge\n",
    "\n",
    "# we impose a penalty using Ridge regression\n",
    "ridge = Ridge()\n",
    "ridge.fit(X_train, y_train)\n",
    "y_predict = ridge.predict(X_val)\n",
    "r2 = r2_score(y_val, y_predict)\n",
    "print(f'Ridge regression r2: {r2}')"
   ]
  },
  {
   "cell_type": "code",
   "execution_count": 26,
   "id": "5e5234e8",
   "metadata": {},
   "outputs": [
    {
     "name": "stdout",
     "output_type": "stream",
     "text": [
      "Lasso regression r2: 0.2658387256598487\n"
     ]
    }
   ],
   "source": [
    "from sklearn.linear_model import Lasso\n",
    "\n",
    "# we now impose a penalty using Lasso regression\n",
    "lasso = Lasso()\n",
    "lasso.fit(X_train, y_train)\n",
    "y_predict = lasso.predict(X_val)\n",
    "r2 = r2_score(y_val, y_predict)\n",
    "print(f'Lasso regression r2: {r2}')"
   ]
  },
  {
   "cell_type": "markdown",
   "id": "a37a6022",
   "metadata": {},
   "source": [
    "### Random Forests"
   ]
  },
  {
   "cell_type": "code",
   "execution_count": 27,
   "id": "d3e8f5b0",
   "metadata": {},
   "outputs": [
    {
     "name": "stdout",
     "output_type": "stream",
     "text": [
      "Random forest r2: 0.1799939470557319\n"
     ]
    }
   ],
   "source": [
    "from sklearn.ensemble import RandomForestRegressor\n",
    "rf = RandomForestRegressor(n_estimators=100, random_state=48)\n",
    "rf.fit(X_train, y_train)\n",
    "y_predict = rf.predict(X_val)\n",
    "r2 = r2_score(y_val, y_predict)\n",
    "print(f'Random forest r2: {r2}')"
   ]
  },
  {
   "cell_type": "markdown",
   "id": "59d924ab",
   "metadata": {},
   "source": [
    "### Light GBM"
   ]
  },
  {
   "cell_type": "code",
   "execution_count": 28,
   "id": "11f3e818",
   "metadata": {},
   "outputs": [
    {
     "name": "stdout",
     "output_type": "stream",
     "text": [
      "Light gbm r2: 0.28423212148743804\n"
     ]
    }
   ],
   "source": [
    "from lightgbm import LGBMRegressor\n",
    "reg_lg = LGBMRegressor(n_estimators=100, random_state=48)\n",
    "reg_lg.fit(X_train, y_train)\n",
    "y_predict = reg_lg.predict(X_val)\n",
    "r2 = r2_score(y_val, y_predict)\n",
    "print(f'Light gbm r2: {r2}')"
   ]
  },
  {
   "cell_type": "markdown",
   "id": "d0945464",
   "metadata": {},
   "source": [
    "Light GBM seems the most promising model. We'll use Light GBM from now on. We don't need to scale the data for tree based models so we adjust accordingly"
   ]
  },
  {
   "cell_type": "code",
   "execution_count": 29,
   "id": "bfe82075",
   "metadata": {},
   "outputs": [],
   "source": [
    "X_train = training_data['train']['X']\n",
    "X_val = training_data['val']['X']"
   ]
  },
  {
   "cell_type": "markdown",
   "id": "573b35e2",
   "metadata": {},
   "source": [
    "### Hyperparameter tuning for LightGBM"
   ]
  },
  {
   "cell_type": "markdown",
   "id": "5f66e4fa",
   "metadata": {},
   "source": [
    "We use Optuna for hyperparameters tuning:\n",
    "- parameters that control the tree structure: num_leaves and max_depth (between 3 and 12). LGBM documentation indicates that num_leaves should be < 2^(max_depth)\n",
    "- parameters for better accuracy: n_estimators and learning_rate \n",
    "- parameters to control overfitting: bagging fraction\n",
    "- some other parameters\n"
   ]
  },
  {
   "cell_type": "code",
   "execution_count": 30,
   "id": "ea63d5ac",
   "metadata": {},
   "outputs": [
    {
     "name": "stderr",
     "output_type": "stream",
     "text": [
      "/Users/gdegournay/opt/anaconda3/envs/mansa/lib/python3.9/site-packages/tqdm/auto.py:22: TqdmWarning: IProgress not found. Please update jupyter and ipywidgets. See https://ipywidgets.readthedocs.io/en/stable/user_install.html\n",
      "  from .autonotebook import tqdm as notebook_tqdm\n"
     ]
    }
   ],
   "source": [
    "import optuna\n",
    "from src.hyper_params import get_objective"
   ]
  },
  {
   "cell_type": "code",
   "execution_count": 31,
   "id": "22e6183d",
   "metadata": {},
   "outputs": [
    {
     "name": "stderr",
     "output_type": "stream",
     "text": [
      "\u001B[32m[I 2022-04-24 08:08:33,169]\u001B[0m A new study created in memory with name: no-name-156652e0-be1c-4cf4-976a-81255775dbc1\u001B[0m\n",
      "\u001B[32m[I 2022-04-24 08:08:33,228]\u001B[0m Trial 0 finished with value: 7729.432309399014 and parameters: {'n_estimators': 100, 'reg_alpha': 5.4547207424579955, 'reg_lambda': 0.006695853706927359, 'colsample_bytree': 0.8, 'subsample': 0.6, 'learning_rate': 0.014, 'max_depth': 2, 'num_leaves': 50, 'min_child_samples': 219}. Best is trial 0 with value: 7729.432309399014.\u001B[0m\n"
     ]
    },
    {
     "name": "stdout",
     "output_type": "stream",
     "text": [
      "Training until validation scores don't improve for 100 rounds\n",
      "[100]\tvalid_0's rmse: 7729.43\n",
      "Did not meet early stopping. Best iteration is:\n",
      "[100]\tvalid_0's rmse: 7729.43\n",
      "Training until validation scores don't improve for 100 rounds\n",
      "[100]\tvalid_0's rmse: 8069.26\n",
      "[200]\tvalid_0's rmse: 7464.32\n",
      "[300]\tvalid_0's rmse: 7355.88\n"
     ]
    },
    {
     "name": "stderr",
     "output_type": "stream",
     "text": [
      "\u001B[32m[I 2022-04-24 08:08:33,444]\u001B[0m Trial 1 finished with value: 7349.144280399479 and parameters: {'n_estimators': 1250, 'reg_alpha': 0.02336708435466059, 'reg_lambda': 0.0034719329416884066, 'colsample_bytree': 0.5, 'subsample': 0.6, 'learning_rate': 0.006, 'max_depth': 5, 'num_leaves': 82, 'min_child_samples': 100}. Best is trial 1 with value: 7349.144280399479.\u001B[0m\n",
      "\u001B[32m[I 2022-04-24 08:08:33,506]\u001B[0m Trial 2 finished with value: 7448.456518798932 and parameters: {'n_estimators': 2000, 'reg_alpha': 0.01466992340477327, 'reg_lambda': 0.022722547964770613, 'colsample_bytree': 0.9, 'subsample': 0.7, 'learning_rate': 0.02, 'max_depth': 2, 'num_leaves': 92, 'min_child_samples': 107}. Best is trial 1 with value: 7349.144280399479.\u001B[0m\n",
      "\u001B[32m[I 2022-04-24 08:08:33,557]\u001B[0m Trial 3 finished with value: 8173.121825378745 and parameters: {'n_estimators': 100, 'reg_alpha': 0.010565164519354448, 'reg_lambda': 1.4835949734666976, 'colsample_bytree': 0.3, 'subsample': 0.4, 'learning_rate': 0.006, 'max_depth': 3, 'num_leaves': 87, 'min_child_samples': 83}. Best is trial 1 with value: 7349.144280399479.\u001B[0m\n"
     ]
    },
    {
     "name": "stdout",
     "output_type": "stream",
     "text": [
      "[400]\tvalid_0's rmse: 7367.41\n",
      "Early stopping, best iteration is:\n",
      "[344]\tvalid_0's rmse: 7349.14\n",
      "Training until validation scores don't improve for 100 rounds\n",
      "[100]\tvalid_0's rmse: 7460.43\n",
      "[200]\tvalid_0's rmse: 7524.91\n",
      "Early stopping, best iteration is:\n",
      "[118]\tvalid_0's rmse: 7448.46\n",
      "Training until validation scores don't improve for 100 rounds\n",
      "[100]\tvalid_0's rmse: 8173.12\n",
      "Did not meet early stopping. Best iteration is:\n",
      "[100]\tvalid_0's rmse: 8173.12\n",
      "Training until validation scores don't improve for 100 rounds\n",
      "[100]\tvalid_0's rmse: 7495.72\n",
      "[200]\tvalid_0's rmse: 7504.87\n"
     ]
    },
    {
     "name": "stderr",
     "output_type": "stream",
     "text": [
      "\u001B[32m[I 2022-04-24 08:08:33,643]\u001B[0m Trial 4 finished with value: 7477.373364611033 and parameters: {'n_estimators': 1250, 'reg_alpha': 0.001951693968452124, 'reg_lambda': 0.5789276147325875, 'colsample_bytree': 0.7, 'subsample': 0.7, 'learning_rate': 0.02, 'max_depth': 3, 'num_leaves': 56, 'min_child_samples': 184}. Best is trial 1 with value: 7349.144280399479.\u001B[0m\n",
      "\u001B[32m[I 2022-04-24 08:08:33,705]\u001B[0m Trial 5 finished with value: 7578.339480793068 and parameters: {'n_estimators': 250, 'reg_alpha': 5.6837038890475275, 'reg_lambda': 0.1796889699124674, 'colsample_bytree': 0.3, 'subsample': 1.0, 'learning_rate': 0.017, 'max_depth': 2, 'num_leaves': 48, 'min_child_samples': 227}. Best is trial 1 with value: 7349.144280399479.\u001B[0m\n",
      "\u001B[32m[I 2022-04-24 08:08:33,789]\u001B[0m Trial 6 finished with value: 7444.223233450637 and parameters: {'n_estimators': 1250, 'reg_alpha': 0.004200953536753077, 'reg_lambda': 0.0037161481573136975, 'colsample_bytree': 1.0, 'subsample': 0.4, 'learning_rate': 0.01, 'max_depth': 2, 'num_leaves': 84, 'min_child_samples': 31}. Best is trial 1 with value: 7349.144280399479.\u001B[0m\n"
     ]
    },
    {
     "name": "stdout",
     "output_type": "stream",
     "text": [
      "Early stopping, best iteration is:\n",
      "[128]\tvalid_0's rmse: 7477.37\n",
      "Training until validation scores don't improve for 100 rounds\n",
      "[100]\tvalid_0's rmse: 7618.32\n",
      "[200]\tvalid_0's rmse: 7624.34\n",
      "Early stopping, best iteration is:\n",
      "[140]\tvalid_0's rmse: 7578.34\n",
      "Training until validation scores don't improve for 100 rounds\n",
      "[100]\tvalid_0's rmse: 7856.3\n",
      "[200]\tvalid_0's rmse: 7485.05\n",
      "[300]\tvalid_0's rmse: 7458.13\n",
      "Early stopping, best iteration is:\n",
      "[257]\tvalid_0's rmse: 7444.22\n",
      "Training until validation scores don't improve for 100 rounds\n",
      "[100]\tvalid_0's rmse: 7838.78\n"
     ]
    },
    {
     "name": "stderr",
     "output_type": "stream",
     "text": [
      "\u001B[32m[I 2022-04-24 08:08:33,877]\u001B[0m Trial 7 finished with value: 7554.00734737884 and parameters: {'n_estimators': 250, 'reg_alpha': 0.002921711615588487, 'reg_lambda': 0.2805777500906671, 'colsample_bytree': 1.0, 'subsample': 0.8, 'learning_rate': 0.01, 'max_depth': 2, 'num_leaves': 84, 'min_child_samples': 15}. Best is trial 1 with value: 7349.144280399479.\u001B[0m\n",
      "\u001B[32m[I 2022-04-24 08:08:33,995]\u001B[0m Trial 8 finished with value: 7420.82309761631 and parameters: {'n_estimators': 750, 'reg_alpha': 0.36302263267172286, 'reg_lambda': 0.16165978693723276, 'colsample_bytree': 0.3, 'subsample': 0.4, 'learning_rate': 0.02, 'max_depth': 7, 'num_leaves': 46, 'min_child_samples': 204}. Best is trial 1 with value: 7349.144280399479.\u001B[0m\n",
      "\u001B[32m[I 2022-04-24 08:08:34,041]\u001B[0m Trial 9 finished with value: 7615.925835074988 and parameters: {'n_estimators': 100, 'reg_alpha': 0.15720503438698366, 'reg_lambda': 0.2839186742382533, 'colsample_bytree': 0.8, 'subsample': 0.5, 'learning_rate': 0.01, 'max_depth': 3, 'num_leaves': 83, 'min_child_samples': 71}. Best is trial 1 with value: 7349.144280399479.\u001B[0m\n"
     ]
    },
    {
     "name": "stdout",
     "output_type": "stream",
     "text": [
      "[200]\tvalid_0's rmse: 7562.91\n",
      "Did not meet early stopping. Best iteration is:\n",
      "[230]\tvalid_0's rmse: 7554.01\n",
      "Training until validation scores don't improve for 100 rounds\n",
      "[100]\tvalid_0's rmse: 7424.31\n",
      "[200]\tvalid_0's rmse: 7514.52\n",
      "Early stopping, best iteration is:\n",
      "[103]\tvalid_0's rmse: 7420.82\n",
      "Training until validation scores don't improve for 100 rounds\n",
      "[100]\tvalid_0's rmse: 7615.93\n",
      "Did not meet early stopping. Best iteration is:\n",
      "[100]\tvalid_0's rmse: 7615.93\n"
     ]
    },
    {
     "name": "stderr",
     "output_type": "stream",
     "text": [
      "\u001B[32m[I 2022-04-24 08:08:34,164]\u001B[0m Trial 10 finished with value: 7425.650953858175 and parameters: {'n_estimators': 500, 'reg_alpha': 0.03596591760068141, 'reg_lambda': 0.0011658878963447718, 'colsample_bytree': 0.5, 'subsample': 0.6, 'learning_rate': 0.008, 'max_depth': 5, 'num_leaves': 4, 'min_child_samples': 144}. Best is trial 1 with value: 7349.144280399479.\u001B[0m\n"
     ]
    },
    {
     "name": "stdout",
     "output_type": "stream",
     "text": [
      "Training until validation scores don't improve for 100 rounds\n",
      "[100]\tvalid_0's rmse: 7982.44\n",
      "[200]\tvalid_0's rmse: 7496.62\n",
      "[300]\tvalid_0's rmse: 7426.94\n",
      "[400]\tvalid_0's rmse: 7458.43\n",
      "Early stopping, best iteration is:\n",
      "[306]\tvalid_0's rmse: 7425.65\n",
      "Training until validation scores don't improve for 100 rounds\n"
     ]
    },
    {
     "name": "stderr",
     "output_type": "stream",
     "text": [
      "\u001B[32m[I 2022-04-24 08:08:34,530]\u001B[0m Trial 11 finished with value: 7544.117084220341 and parameters: {'n_estimators': 750, 'reg_alpha': 0.351068105871921, 'reg_lambda': 6.4549695286662585, 'colsample_bytree': 0.5, 'subsample': 0.4, 'learning_rate': 0.006, 'max_depth': 7, 'num_leaves': 28, 'min_child_samples': 255}. Best is trial 1 with value: 7349.144280399479.\u001B[0m\n"
     ]
    },
    {
     "name": "stdout",
     "output_type": "stream",
     "text": [
      "[100]\tvalid_0's rmse: 8300.6\n",
      "[200]\tvalid_0's rmse: 7716.01\n",
      "[300]\tvalid_0's rmse: 7564.2\n",
      "[400]\tvalid_0's rmse: 7547.81\n",
      "Early stopping, best iteration is:\n",
      "[375]\tvalid_0's rmse: 7544.12\n"
     ]
    },
    {
     "name": "stderr",
     "output_type": "stream",
     "text": [
      "\u001B[32m[I 2022-04-24 08:08:34,640]\u001B[0m Trial 12 finished with value: 7579.542482287944 and parameters: {'n_estimators': 750, 'reg_alpha': 0.6297865282374893, 'reg_lambda': 0.0285110198263229, 'colsample_bytree': 0.4, 'subsample': 0.6, 'learning_rate': 0.02, 'max_depth': 5, 'num_leaves': 60, 'min_child_samples': 300}. Best is trial 1 with value: 7349.144280399479.\u001B[0m\n"
     ]
    },
    {
     "name": "stdout",
     "output_type": "stream",
     "text": [
      "Training until validation scores don't improve for 100 rounds\n",
      "[100]\tvalid_0's rmse: 7579.56\n",
      "[200]\tvalid_0's rmse: 7656.53\n",
      "Early stopping, best iteration is:\n",
      "[102]\tvalid_0's rmse: 7579.54\n",
      "Training until validation scores don't improve for 100 rounds\n",
      "[100]\tvalid_0's rmse: 8097.04\n"
     ]
    },
    {
     "name": "stderr",
     "output_type": "stream",
     "text": [
      "\u001B[32m[I 2022-04-24 08:08:34,919]\u001B[0m Trial 13 finished with value: 7338.604818694006 and parameters: {'n_estimators': 1000, 'reg_alpha': 0.9484190840449388, 'reg_lambda': 0.06817182543933409, 'colsample_bytree': 0.6, 'subsample': 1.0, 'learning_rate': 0.006, 'max_depth': 7, 'num_leaves': 29, 'min_child_samples': 134}. Best is trial 13 with value: 7338.604818694006.\u001B[0m\n"
     ]
    },
    {
     "name": "stdout",
     "output_type": "stream",
     "text": [
      "[200]\tvalid_0's rmse: 7493.08\n",
      "[300]\tvalid_0's rmse: 7355.55\n",
      "[400]\tvalid_0's rmse: 7343.52\n",
      "Early stopping, best iteration is:\n",
      "[342]\tvalid_0's rmse: 7338.6\n",
      "Training until validation scores don't improve for 100 rounds\n",
      "[100]\tvalid_0's rmse: 8128.8\n",
      "[200]\tvalid_0's rmse: 7539.74\n",
      "[300]\tvalid_0's rmse: 7404.91\n",
      "[400]\tvalid_0's rmse: 7391.98\n"
     ]
    },
    {
     "name": "stderr",
     "output_type": "stream",
     "text": [
      "\u001B[32m[I 2022-04-24 08:08:35,269]\u001B[0m Trial 14 finished with value: 7386.914623643734 and parameters: {'n_estimators': 1000, 'reg_alpha': 0.990900000147986, 'reg_lambda': 0.034036440167315024, 'colsample_bytree': 0.6, 'subsample': 1.0, 'learning_rate': 0.006, 'max_depth': 10, 'num_leaves': 24, 'min_child_samples': 142}. Best is trial 13 with value: 7338.604818694006.\u001B[0m\n"
     ]
    },
    {
     "name": "stdout",
     "output_type": "stream",
     "text": [
      "Early stopping, best iteration is:\n",
      "[372]\tvalid_0's rmse: 7386.91\n",
      "Training until validation scores don't improve for 100 rounds\n",
      "[100]\tvalid_0's rmse: 8041.61\n",
      "[200]\tvalid_0's rmse: 7454.28\n",
      "[300]\tvalid_0's rmse: 7349.52\n",
      "[400]\tvalid_0's rmse: 7350.6\n",
      "Early stopping, best iteration is:\n",
      "[342]\tvalid_0's rmse: 7339.02\n"
     ]
    },
    {
     "name": "stderr",
     "output_type": "stream",
     "text": [
      "\u001B[32m[I 2022-04-24 08:08:35,467]\u001B[0m Trial 15 finished with value: 7339.018883609527 and parameters: {'n_estimators': 1000, 'reg_alpha': 0.053238479308453796, 'reg_lambda': 0.006556560987422812, 'colsample_bytree': 0.6, 'subsample': 1.0, 'learning_rate': 0.006, 'max_depth': 5, 'num_leaves': 70, 'min_child_samples': 87}. Best is trial 13 with value: 7338.604818694006.\u001B[0m\n"
     ]
    },
    {
     "name": "stdout",
     "output_type": "stream",
     "text": [
      "Training until validation scores don't improve for 100 rounds\n",
      "[100]\tvalid_0's rmse: 7948.57\n",
      "[200]\tvalid_0's rmse: 7394.52\n",
      "[300]\tvalid_0's rmse: 7323.13\n"
     ]
    },
    {
     "name": "stderr",
     "output_type": "stream",
     "text": [
      "\u001B[32m[I 2022-04-24 08:08:35,762]\u001B[0m Trial 16 finished with value: 7321.353446191256 and parameters: {'n_estimators': 1000, 'reg_alpha': 0.0728978583670885, 'reg_lambda': 0.0558453981353075, 'colsample_bytree': 0.6, 'subsample': 1.0, 'learning_rate': 0.006, 'max_depth': 7, 'num_leaves': 68, 'min_child_samples': 44}. Best is trial 16 with value: 7321.353446191256.\u001B[0m\n",
      "\u001B[32m[I 2022-04-24 08:08:35,918]\u001B[0m Trial 17 finished with value: 7310.961795605074 and parameters: {'n_estimators': 1000, 'reg_alpha': 1.8478254645686907, 'reg_lambda': 0.05786341265444248, 'colsample_bytree': 0.6, 'subsample': 1.0, 'learning_rate': 0.014, 'max_depth': 7, 'num_leaves': 33, 'min_child_samples': 62}. Best is trial 17 with value: 7310.961795605074.\u001B[0m\n"
     ]
    },
    {
     "name": "stdout",
     "output_type": "stream",
     "text": [
      "Early stopping, best iteration is:\n",
      "[294]\tvalid_0's rmse: 7321.35\n",
      "Training until validation scores don't improve for 100 rounds\n",
      "[100]\tvalid_0's rmse: 7330.54\n",
      "[200]\tvalid_0's rmse: 7412.73\n",
      "Early stopping, best iteration is:\n",
      "[112]\tvalid_0's rmse: 7310.96\n",
      "Training until validation scores don't improve for 100 rounds\n"
     ]
    },
    {
     "name": "stderr",
     "output_type": "stream",
     "text": [
      "\u001B[32m[I 2022-04-24 08:08:36,056]\u001B[0m Trial 18 finished with value: 7319.9534172962085 and parameters: {'n_estimators': 1000, 'reg_alpha': 2.48230715919321, 'reg_lambda': 1.3594090809855217, 'colsample_bytree': 0.6, 'subsample': 1.0, 'learning_rate': 0.014, 'max_depth': 7, 'num_leaves': 14, 'min_child_samples': 44}. Best is trial 17 with value: 7310.961795605074.\u001B[0m\n",
      "\u001B[32m[I 2022-04-24 08:08:36,149]\u001B[0m Trial 19 finished with value: 7414.884489074778 and parameters: {'n_estimators': 1000, 'reg_alpha': 2.2640746806571364, 'reg_lambda': 9.60942817044461, 'colsample_bytree': 0.6, 'subsample': 0.5, 'learning_rate': 0.014, 'max_depth': 7, 'num_leaves': 4, 'min_child_samples': 6}. Best is trial 17 with value: 7310.961795605074.\u001B[0m\n"
     ]
    },
    {
     "name": "stdout",
     "output_type": "stream",
     "text": [
      "[100]\tvalid_0's rmse: 7374.01\n",
      "[200]\tvalid_0's rmse: 7340.5\n",
      "Early stopping, best iteration is:\n",
      "[146]\tvalid_0's rmse: 7319.95\n",
      "Training until validation scores don't improve for 100 rounds\n",
      "[100]\tvalid_0's rmse: 7584.09\n",
      "[200]\tvalid_0's rmse: 7422.02\n",
      "[300]\tvalid_0's rmse: 7434.41\n",
      "Early stopping, best iteration is:\n",
      "[249]\tvalid_0's rmse: 7414.88\n",
      "Training until validation scores don't improve for 100 rounds\n"
     ]
    },
    {
     "name": "stderr",
     "output_type": "stream",
     "text": [
      "\u001B[32m[I 2022-04-24 08:08:36,300]\u001B[0m Trial 20 finished with value: 7319.821193745511 and parameters: {'n_estimators': 2000, 'reg_alpha': 9.103035417143731, 'reg_lambda': 2.0979853805367172, 'colsample_bytree': 0.4, 'subsample': 0.8, 'learning_rate': 0.014, 'max_depth': 7, 'num_leaves': 17, 'min_child_samples': 52}. Best is trial 17 with value: 7310.961795605074.\u001B[0m\n",
      "\u001B[32m[I 2022-04-24 08:08:36,437]\u001B[0m Trial 21 finished with value: 7321.514022217337 and parameters: {'n_estimators': 2000, 'reg_alpha': 9.521344048292763, 'reg_lambda': 2.470294084407735, 'colsample_bytree': 0.4, 'subsample': 0.8, 'learning_rate': 0.014, 'max_depth': 7, 'num_leaves': 16, 'min_child_samples': 59}. Best is trial 17 with value: 7310.961795605074.\u001B[0m\n"
     ]
    },
    {
     "name": "stdout",
     "output_type": "stream",
     "text": [
      "[100]\tvalid_0's rmse: 7364.76\n",
      "[200]\tvalid_0's rmse: 7404.45\n",
      "Early stopping, best iteration is:\n",
      "[141]\tvalid_0's rmse: 7319.82\n",
      "Training until validation scores don't improve for 100 rounds\n",
      "[100]\tvalid_0's rmse: 7366.61\n",
      "[200]\tvalid_0's rmse: 7423.37\n",
      "Early stopping, best iteration is:\n",
      "[141]\tvalid_0's rmse: 7321.51\n"
     ]
    },
    {
     "name": "stderr",
     "output_type": "stream",
     "text": [
      "\u001B[32m[I 2022-04-24 08:08:36,603]\u001B[0m Trial 22 finished with value: 7319.291395159231 and parameters: {'n_estimators': 2000, 'reg_alpha': 2.431079538320238, 'reg_lambda': 1.4596730382414442, 'colsample_bytree': 0.4, 'subsample': 0.8, 'learning_rate': 0.014, 'max_depth': 7, 'num_leaves': 38, 'min_child_samples': 51}. Best is trial 17 with value: 7310.961795605074.\u001B[0m\n"
     ]
    },
    {
     "name": "stdout",
     "output_type": "stream",
     "text": [
      "Training until validation scores don't improve for 100 rounds\n",
      "[100]\tvalid_0's rmse: 7354.93\n",
      "[200]\tvalid_0's rmse: 7410.4\n",
      "Early stopping, best iteration is:\n",
      "[141]\tvalid_0's rmse: 7319.29\n",
      "Training until validation scores don't improve for 100 rounds\n"
     ]
    },
    {
     "name": "stderr",
     "output_type": "stream",
     "text": [
      "\u001B[32m[I 2022-04-24 08:08:36,845]\u001B[0m Trial 23 finished with value: 7295.7965560751 and parameters: {'n_estimators': 2000, 'reg_alpha': 2.1932499270244104, 'reg_lambda': 3.1834449128431275, 'colsample_bytree': 0.4, 'subsample': 0.8, 'learning_rate': 0.014, 'max_depth': 10, 'num_leaves': 39, 'min_child_samples': 116}. Best is trial 23 with value: 7295.7965560751.\u001B[0m\n"
     ]
    },
    {
     "name": "stdout",
     "output_type": "stream",
     "text": [
      "[100]\tvalid_0's rmse: 7398.29\n",
      "[200]\tvalid_0's rmse: 7322.5\n",
      "Early stopping, best iteration is:\n",
      "[158]\tvalid_0's rmse: 7295.8\n",
      "Training until validation scores don't improve for 100 rounds\n"
     ]
    },
    {
     "name": "stderr",
     "output_type": "stream",
     "text": [
      "\u001B[32m[I 2022-04-24 08:08:37,081]\u001B[0m Trial 24 finished with value: 7301.216077220878 and parameters: {'n_estimators': 2000, 'reg_alpha': 2.321112350875795, 'reg_lambda': 0.790014226040559, 'colsample_bytree': 0.4, 'subsample': 0.8, 'learning_rate': 0.014, 'max_depth': 10, 'num_leaves': 39, 'min_child_samples': 119}. Best is trial 23 with value: 7295.7965560751.\u001B[0m\n"
     ]
    },
    {
     "name": "stdout",
     "output_type": "stream",
     "text": [
      "[100]\tvalid_0's rmse: 7393.86\n",
      "[200]\tvalid_0's rmse: 7331.7\n",
      "Early stopping, best iteration is:\n",
      "[152]\tvalid_0's rmse: 7301.22\n",
      "Training until validation scores don't improve for 100 rounds\n"
     ]
    },
    {
     "name": "stderr",
     "output_type": "stream",
     "text": [
      "\u001B[32m[I 2022-04-24 08:08:37,324]\u001B[0m Trial 25 finished with value: 7301.2971664362885 and parameters: {'n_estimators': 2000, 'reg_alpha': 0.1765233543676026, 'reg_lambda': 0.6129915402823156, 'colsample_bytree': 0.4, 'subsample': 0.8, 'learning_rate': 0.014, 'max_depth': 10, 'num_leaves': 41, 'min_child_samples': 118}. Best is trial 23 with value: 7295.7965560751.\u001B[0m\n"
     ]
    },
    {
     "name": "stdout",
     "output_type": "stream",
     "text": [
      "[100]\tvalid_0's rmse: 7392.47\n",
      "[200]\tvalid_0's rmse: 7331.28\n",
      "Early stopping, best iteration is:\n",
      "[152]\tvalid_0's rmse: 7301.3\n",
      "Training until validation scores don't improve for 100 rounds\n",
      "[100]\tvalid_0's rmse: 7918.87\n",
      "[200]\tvalid_0's rmse: 7440.13\n",
      "[300]\tvalid_0's rmse: 7406.76\n",
      "Early stopping, best iteration is:\n",
      "[263]\tvalid_0's rmse: 7397.15\n"
     ]
    },
    {
     "name": "stderr",
     "output_type": "stream",
     "text": [
      "\u001B[32m[I 2022-04-24 08:08:37,638]\u001B[0m Trial 26 finished with value: 7397.150666623873 and parameters: {'n_estimators': 2000, 'reg_alpha': 0.20002712549705773, 'reg_lambda': 0.6063287645235116, 'colsample_bytree': 0.4, 'subsample': 0.8, 'learning_rate': 0.008, 'max_depth': 10, 'num_leaves': 38, 'min_child_samples': 167}. Best is trial 23 with value: 7295.7965560751.\u001B[0m\n",
      "\u001B[32m[I 2022-04-24 08:08:37,842]\u001B[0m Trial 27 finished with value: 7303.343025421724 and parameters: {'n_estimators': 2000, 'reg_alpha': 0.13269647426972606, 'reg_lambda': 5.0155037221864145, 'colsample_bytree': 0.4, 'subsample': 0.8, 'learning_rate': 0.017, 'max_depth': 10, 'num_leaves': 41, 'min_child_samples': 121}. Best is trial 23 with value: 7295.7965560751.\u001B[0m\n"
     ]
    },
    {
     "name": "stdout",
     "output_type": "stream",
     "text": [
      "Training until validation scores don't improve for 100 rounds\n",
      "[100]\tvalid_0's rmse: 7326.62\n",
      "[200]\tvalid_0's rmse: 7371.32\n",
      "Early stopping, best iteration is:\n",
      "[126]\tvalid_0's rmse: 7303.34\n"
     ]
    },
    {
     "name": "stderr",
     "output_type": "stream",
     "text": [
      "\u001B[32m[I 2022-04-24 08:08:38,065]\u001B[0m Trial 28 finished with value: 7404.042679327236 and parameters: {'n_estimators': 2000, 'reg_alpha': 0.38424294373605256, 'reg_lambda': 0.6691161967449184, 'colsample_bytree': 0.4, 'subsample': 0.8, 'learning_rate': 0.014, 'max_depth': 10, 'num_leaves': 56, 'min_child_samples': 167}. Best is trial 23 with value: 7295.7965560751.\u001B[0m\n"
     ]
    },
    {
     "name": "stdout",
     "output_type": "stream",
     "text": [
      "Training until validation scores don't improve for 100 rounds\n",
      "[100]\tvalid_0's rmse: 7491.56\n",
      "[200]\tvalid_0's rmse: 7432.68\n",
      "Early stopping, best iteration is:\n",
      "[149]\tvalid_0's rmse: 7404.04\n"
     ]
    },
    {
     "name": "stderr",
     "output_type": "stream",
     "text": [
      "\u001B[32m[I 2022-04-24 08:08:38,275]\u001B[0m Trial 29 finished with value: 7342.563785169407 and parameters: {'n_estimators': 2000, 'reg_alpha': 1.163528197331439, 'reg_lambda': 4.83313506555188, 'colsample_bytree': 0.9, 'subsample': 0.8, 'learning_rate': 0.014, 'max_depth': 10, 'num_leaves': 66, 'min_child_samples': 117}. Best is trial 23 with value: 7295.7965560751.\u001B[0m\n"
     ]
    },
    {
     "name": "stdout",
     "output_type": "stream",
     "text": [
      "Training until validation scores don't improve for 100 rounds\n",
      "[100]\tvalid_0's rmse: 7428.92\n",
      "[200]\tvalid_0's rmse: 7375.4\n",
      "Early stopping, best iteration is:\n",
      "[146]\tvalid_0's rmse: 7342.56\n",
      "Training until validation scores don't improve for 100 rounds\n",
      "[100]\tvalid_0's rmse: 7552.09\n",
      "[200]\tvalid_0's rmse: 7456.51\n",
      "Early stopping, best iteration is:\n",
      "[186]\tvalid_0's rmse: 7450.35\n"
     ]
    },
    {
     "name": "stderr",
     "output_type": "stream",
     "text": [
      "\u001B[32m[I 2022-04-24 08:08:38,508]\u001B[0m Trial 30 finished with value: 7450.34842550885 and parameters: {'n_estimators': 500, 'reg_alpha': 5.777266782779044, 'reg_lambda': 3.2063309429644673, 'colsample_bytree': 0.8, 'subsample': 0.8, 'learning_rate': 0.014, 'max_depth': 10, 'num_leaves': 44, 'min_child_samples': 169}. Best is trial 23 with value: 7295.7965560751.\u001B[0m\n",
      "\u001B[32m[I 2022-04-24 08:08:38,708]\u001B[0m Trial 31 finished with value: 7307.337367118984 and parameters: {'n_estimators': 2000, 'reg_alpha': 0.11094376382195714, 'reg_lambda': 0.8792533915542928, 'colsample_bytree': 0.4, 'subsample': 0.8, 'learning_rate': 0.017, 'max_depth': 10, 'num_leaves': 41, 'min_child_samples': 119}. Best is trial 23 with value: 7295.7965560751.\u001B[0m\n"
     ]
    },
    {
     "name": "stdout",
     "output_type": "stream",
     "text": [
      "Training until validation scores don't improve for 100 rounds\n",
      "[100]\tvalid_0's rmse: 7327.56\n",
      "[200]\tvalid_0's rmse: 7376.68\n",
      "Early stopping, best iteration is:\n",
      "[123]\tvalid_0's rmse: 7307.34\n",
      "Training until validation scores don't improve for 100 rounds\n"
     ]
    },
    {
     "name": "stderr",
     "output_type": "stream",
     "text": [
      "\u001B[32m[I 2022-04-24 08:08:38,924]\u001B[0m Trial 32 finished with value: 7314.509668577416 and parameters: {'n_estimators': 2000, 'reg_alpha': 0.2536135241235588, 'reg_lambda': 4.937637036046647, 'colsample_bytree': 0.4, 'subsample': 0.8, 'learning_rate': 0.017, 'max_depth': 10, 'num_leaves': 52, 'min_child_samples': 127}. Best is trial 23 with value: 7295.7965560751.\u001B[0m\n"
     ]
    },
    {
     "name": "stdout",
     "output_type": "stream",
     "text": [
      "[100]\tvalid_0's rmse: 7340.27\n",
      "[200]\tvalid_0's rmse: 7381.92\n",
      "Early stopping, best iteration is:\n",
      "[126]\tvalid_0's rmse: 7314.51\n",
      "Training until validation scores don't improve for 100 rounds\n",
      "[100]\tvalid_0's rmse: 7322.33\n"
     ]
    },
    {
     "name": "stderr",
     "output_type": "stream",
     "text": [
      "\u001B[32m[I 2022-04-24 08:08:39,130]\u001B[0m Trial 33 finished with value: 7314.69320324692 and parameters: {'n_estimators': 2000, 'reg_alpha': 0.6180660040139837, 'reg_lambda': 3.0760932371347804, 'colsample_bytree': 0.4, 'subsample': 0.8, 'learning_rate': 0.017, 'max_depth': 10, 'num_leaves': 35, 'min_child_samples': 101}. Best is trial 23 with value: 7295.7965560751.\u001B[0m\n",
      "\u001B[32m[I 2022-04-24 08:08:39,292]\u001B[0m Trial 34 finished with value: 7317.582008471749 and parameters: {'n_estimators': 2000, 'reg_alpha': 0.015425934691496149, 'reg_lambda': 0.327214516218526, 'colsample_bytree': 0.7, 'subsample': 0.7, 'learning_rate': 0.017, 'max_depth': 10, 'num_leaves': 29, 'min_child_samples': 85}. Best is trial 23 with value: 7295.7965560751.\u001B[0m\n"
     ]
    },
    {
     "name": "stdout",
     "output_type": "stream",
     "text": [
      "[200]\tvalid_0's rmse: 7405.69\n",
      "Early stopping, best iteration is:\n",
      "[122]\tvalid_0's rmse: 7314.69\n",
      "Training until validation scores don't improve for 100 rounds\n",
      "[100]\tvalid_0's rmse: 7337.23\n",
      "[200]\tvalid_0's rmse: 7419.64\n",
      "Early stopping, best iteration is:\n",
      "[112]\tvalid_0's rmse: 7317.58\n"
     ]
    },
    {
     "name": "stderr",
     "output_type": "stream",
     "text": [
      "\u001B[32m[I 2022-04-24 08:08:39,479]\u001B[0m Trial 35 finished with value: 7302.8702404260475 and parameters: {'n_estimators': 2000, 'reg_alpha': 0.031615809427483633, 'reg_lambda': 8.726726587215822, 'colsample_bytree': 0.4, 'subsample': 0.8, 'learning_rate': 0.014, 'max_depth': 10, 'num_leaves': 21, 'min_child_samples': 109}. Best is trial 23 with value: 7295.7965560751.\u001B[0m\n"
     ]
    },
    {
     "name": "stdout",
     "output_type": "stream",
     "text": [
      "Training until validation scores don't improve for 100 rounds\n",
      "[100]\tvalid_0's rmse: 7411.83\n",
      "[200]\tvalid_0's rmse: 7325.11\n",
      "Early stopping, best iteration is:\n",
      "[157]\tvalid_0's rmse: 7302.87\n",
      "Training until validation scores don't improve for 100 rounds\n"
     ]
    },
    {
     "name": "stderr",
     "output_type": "stream",
     "text": [
      "\u001B[32m[I 2022-04-24 08:08:39,587]\u001B[0m Trial 36 finished with value: 7391.87625162968 and parameters: {'n_estimators': 100, 'reg_alpha': 0.031171297219441833, 'reg_lambda': 9.618007340346216, 'colsample_bytree': 0.4, 'subsample': 0.8, 'learning_rate': 0.014, 'max_depth': 10, 'num_leaves': 22, 'min_child_samples': 95}. Best is trial 23 with value: 7295.7965560751.\u001B[0m\n",
      "\u001B[32m[I 2022-04-24 08:08:39,718]\u001B[0m Trial 37 finished with value: 7420.565494903042 and parameters: {'n_estimators': 1250, 'reg_alpha': 0.0068735566691764385, 'reg_lambda': 1.1804381224827543, 'colsample_bytree': 0.7, 'subsample': 0.7, 'learning_rate': 0.014, 'max_depth': 10, 'num_leaves': 10, 'min_child_samples': 158}. Best is trial 23 with value: 7295.7965560751.\u001B[0m\n"
     ]
    },
    {
     "name": "stdout",
     "output_type": "stream",
     "text": [
      "[100]\tvalid_0's rmse: 7391.88\n",
      "Did not meet early stopping. Best iteration is:\n",
      "[100]\tvalid_0's rmse: 7391.88\n",
      "Training until validation scores don't improve for 100 rounds\n",
      "[100]\tvalid_0's rmse: 7517.29\n",
      "[200]\tvalid_0's rmse: 7430.34\n",
      "Early stopping, best iteration is:\n",
      "[178]\tvalid_0's rmse: 7420.57\n",
      "Training until validation scores don't improve for 100 rounds\n",
      "[100]\tvalid_0's rmse: 7602.06\n"
     ]
    },
    {
     "name": "stderr",
     "output_type": "stream",
     "text": [
      "\u001B[32m[I 2022-04-24 08:08:39,810]\u001B[0m Trial 38 finished with value: 7480.505267317099 and parameters: {'n_estimators': 250, 'reg_alpha': 0.018621930966212463, 'reg_lambda': 0.4490851999794524, 'colsample_bytree': 0.9, 'subsample': 0.5, 'learning_rate': 0.014, 'max_depth': 3, 'num_leaves': 21, 'min_child_samples': 186}. Best is trial 23 with value: 7295.7965560751.\u001B[0m\n"
     ]
    },
    {
     "name": "stdout",
     "output_type": "stream",
     "text": [
      "[200]\tvalid_0's rmse: 7484.19\n",
      "Did not meet early stopping. Best iteration is:\n",
      "[184]\tvalid_0's rmse: 7480.51\n",
      "Training until validation scores don't improve for 100 rounds\n",
      "[100]\tvalid_0's rmse: 7365.01\n"
     ]
    },
    {
     "name": "stderr",
     "output_type": "stream",
     "text": [
      "\u001B[32m[I 2022-04-24 08:08:40,036]\u001B[0m Trial 39 finished with value: 7311.875771141511 and parameters: {'n_estimators': 2000, 'reg_alpha': 4.048000479331015, 'reg_lambda': 2.313826415651575, 'colsample_bytree': 1.0, 'subsample': 0.8, 'learning_rate': 0.014, 'max_depth': 10, 'num_leaves': 48, 'min_child_samples': 76}. Best is trial 23 with value: 7295.7965560751.\u001B[0m\n",
      "\u001B[32m[I 2022-04-24 08:08:40,146]\u001B[0m Trial 40 finished with value: 7393.032781893001 and parameters: {'n_estimators': 2000, 'reg_alpha': 0.04787821638083725, 'reg_lambda': 0.14351346682566057, 'colsample_bytree': 0.4, 'subsample': 0.6, 'learning_rate': 0.008, 'max_depth': 2, 'num_leaves': 94, 'min_child_samples': 107}. Best is trial 23 with value: 7295.7965560751.\u001B[0m\n"
     ]
    },
    {
     "name": "stdout",
     "output_type": "stream",
     "text": [
      "[200]\tvalid_0's rmse: 7365.02\n",
      "Early stopping, best iteration is:\n",
      "[130]\tvalid_0's rmse: 7311.88\n",
      "Training until validation scores don't improve for 100 rounds\n",
      "[100]\tvalid_0's rmse: 8023.33\n",
      "[200]\tvalid_0's rmse: 7495.51\n",
      "[300]\tvalid_0's rmse: 7395.22\n",
      "[400]\tvalid_0's rmse: 7413.3\n",
      "Early stopping, best iteration is:\n",
      "[305]\tvalid_0's rmse: 7393.03\n",
      "Training until validation scores don't improve for 100 rounds\n",
      "[100]\tvalid_0's rmse: 7326.85\n"
     ]
    },
    {
     "name": "stderr",
     "output_type": "stream",
     "text": [
      "\u001B[32m[I 2022-04-24 08:08:40,672]\u001B[0m Trial 41 finished with value: 7303.159572873923 and parameters: {'n_estimators': 2000, 'reg_alpha': 0.09542911843987667, 'reg_lambda': 5.382409872856089, 'colsample_bytree': 0.4, 'subsample': 0.8, 'learning_rate': 0.017, 'max_depth': 10, 'num_leaves': 42, 'min_child_samples': 116}. Best is trial 23 with value: 7295.7965560751.\u001B[0m\n"
     ]
    },
    {
     "name": "stdout",
     "output_type": "stream",
     "text": [
      "[200]\tvalid_0's rmse: 7366.14\n",
      "Early stopping, best iteration is:\n",
      "[126]\tvalid_0's rmse: 7303.16\n",
      "Training until validation scores don't improve for 100 rounds\n",
      "[100]\tvalid_0's rmse: 7654.41\n",
      "[200]\tvalid_0's rmse: 7306.89\n"
     ]
    },
    {
     "name": "stderr",
     "output_type": "stream",
     "text": [
      "\u001B[32m[I 2022-04-24 08:08:41,223]\u001B[0m Trial 42 finished with value: 7299.038319475483 and parameters: {'n_estimators': 2000, 'reg_alpha': 0.09324489948030219, 'reg_lambda': 7.743683471157935, 'colsample_bytree': 0.4, 'subsample': 0.8, 'learning_rate': 0.01, 'max_depth': 10, 'num_leaves': 52, 'min_child_samples': 109}. Best is trial 23 with value: 7295.7965560751.\u001B[0m\n"
     ]
    },
    {
     "name": "stdout",
     "output_type": "stream",
     "text": [
      "[300]\tvalid_0's rmse: 7351.95\n",
      "Early stopping, best iteration is:\n",
      "[221]\tvalid_0's rmse: 7299.04\n",
      "Training until validation scores don't improve for 100 rounds\n",
      "[100]\tvalid_0's rmse: 7674.1\n"
     ]
    },
    {
     "name": "stderr",
     "output_type": "stream",
     "text": [
      "\u001B[32m[I 2022-04-24 08:08:41,673]\u001B[0m Trial 43 finished with value: 7336.38061371937 and parameters: {'n_estimators': 500, 'reg_alpha': 0.01201633379149778, 'reg_lambda': 7.807686612683449, 'colsample_bytree': 0.3, 'subsample': 0.8, 'learning_rate': 0.01, 'max_depth': 10, 'num_leaves': 54, 'min_child_samples': 137}. Best is trial 23 with value: 7295.7965560751.\u001B[0m\n"
     ]
    },
    {
     "name": "stdout",
     "output_type": "stream",
     "text": [
      "[200]\tvalid_0's rmse: 7339.87\n",
      "[300]\tvalid_0's rmse: 7374.2\n",
      "Early stopping, best iteration is:\n",
      "[216]\tvalid_0's rmse: 7336.38\n",
      "Training until validation scores don't improve for 100 rounds\n",
      "[100]\tvalid_0's rmse: 7630.08\n",
      "[200]\tvalid_0's rmse: 7305.52\n",
      "[300]\tvalid_0's rmse: 7360.41\n"
     ]
    },
    {
     "name": "stderr",
     "output_type": "stream",
     "text": [
      "\u001B[32m[I 2022-04-24 08:08:42,101]\u001B[0m Trial 44 finished with value: 7301.861771880741 and parameters: {'n_estimators': 2000, 'reg_alpha': 0.001154114203031602, 'reg_lambda': 3.6379934249995283, 'colsample_bytree': 0.4, 'subsample': 0.8, 'learning_rate': 0.01, 'max_depth': 10, 'num_leaves': 50, 'min_child_samples': 103}. Best is trial 23 with value: 7295.7965560751.\u001B[0m\n",
      "\u001B[32m[I 2022-04-24 08:08:42,241]\u001B[0m Trial 45 finished with value: 7339.243201846077 and parameters: {'n_estimators': 1250, 'reg_alpha': 0.001144660867818594, 'reg_lambda': 1.009002548539752, 'colsample_bytree': 0.8, 'subsample': 0.4, 'learning_rate': 0.01, 'max_depth': 3, 'num_leaves': 60, 'min_child_samples': 73}. Best is trial 23 with value: 7295.7965560751.\u001B[0m\n"
     ]
    },
    {
     "name": "stdout",
     "output_type": "stream",
     "text": [
      "Early stopping, best iteration is:\n",
      "[221]\tvalid_0's rmse: 7301.86\n",
      "Training until validation scores don't improve for 100 rounds\n",
      "[100]\tvalid_0's rmse: 7609.82\n",
      "[200]\tvalid_0's rmse: 7342.37\n",
      "[300]\tvalid_0's rmse: 7372.52\n",
      "Early stopping, best iteration is:\n",
      "[218]\tvalid_0's rmse: 7339.24\n",
      "Training until validation scores don't improve for 100 rounds\n",
      "[100]\tvalid_0's rmse: 7681.6\n",
      "[200]\tvalid_0's rmse: 7403.7\n"
     ]
    },
    {
     "name": "stderr",
     "output_type": "stream",
     "text": [
      "\u001B[32m[I 2022-04-24 08:08:42,593]\u001B[0m Trial 46 finished with value: 7393.837484248751 and parameters: {'n_estimators': 250, 'reg_alpha': 0.004956210962547387, 'reg_lambda': 3.539695177530633, 'colsample_bytree': 0.5, 'subsample': 0.8, 'learning_rate': 0.01, 'max_depth': 10, 'num_leaves': 75, 'min_child_samples': 149}. Best is trial 23 with value: 7295.7965560751.\u001B[0m\n",
      "\u001B[32m[I 2022-04-24 08:08:42,681]\u001B[0m Trial 47 finished with value: 7777.019276656346 and parameters: {'n_estimators': 100, 'reg_alpha': 0.002025152148772397, 'reg_lambda': 1.9254707128909907, 'colsample_bytree': 0.4, 'subsample': 0.7, 'learning_rate': 0.01, 'max_depth': 2, 'num_leaves': 100, 'min_child_samples': 93}. Best is trial 23 with value: 7295.7965560751.\u001B[0m\n"
     ]
    },
    {
     "name": "stdout",
     "output_type": "stream",
     "text": [
      "Did not meet early stopping. Best iteration is:\n",
      "[228]\tvalid_0's rmse: 7393.84\n",
      "Training until validation scores don't improve for 100 rounds\n",
      "[100]\tvalid_0's rmse: 7777.02\n",
      "Did not meet early stopping. Best iteration is:\n",
      "[100]\tvalid_0's rmse: 7777.02\n",
      "Training until validation scores don't improve for 100 rounds\n",
      "[100]\tvalid_0's rmse: 7744.85\n",
      "[200]\tvalid_0's rmse: 7477.71\n"
     ]
    },
    {
     "name": "stderr",
     "output_type": "stream",
     "text": [
      "\u001B[32m[I 2022-04-24 08:08:43,178]\u001B[0m Trial 48 finished with value: 7475.498985933856 and parameters: {'n_estimators': 750, 'reg_alpha': 1.49056651431573, 'reg_lambda': 0.44324882420774714, 'colsample_bytree': 1.0, 'subsample': 0.6, 'learning_rate': 0.01, 'max_depth': 10, 'num_leaves': 49, 'min_child_samples': 192}. Best is trial 23 with value: 7295.7965560751.\u001B[0m\n",
      "\u001B[32m[I 2022-04-24 08:08:43,342]\u001B[0m Trial 49 finished with value: 7327.090551163841 and parameters: {'n_estimators': 2000, 'reg_alpha': 4.288200799443621, 'reg_lambda': 0.20097179526944384, 'colsample_bytree': 0.3, 'subsample': 0.5, 'learning_rate': 0.02, 'max_depth': 5, 'num_leaves': 34, 'min_child_samples': 129}. Best is trial 23 with value: 7295.7965560751.\u001B[0m\n"
     ]
    },
    {
     "name": "stdout",
     "output_type": "stream",
     "text": [
      "[300]\tvalid_0's rmse: 7493.71\n",
      "Early stopping, best iteration is:\n",
      "[216]\tvalid_0's rmse: 7475.5\n",
      "Training until validation scores don't improve for 100 rounds\n",
      "[100]\tvalid_0's rmse: 7330.3\n",
      "[200]\tvalid_0's rmse: 7446.07\n",
      "Early stopping, best iteration is:\n",
      "[103]\tvalid_0's rmse: 7327.09\n",
      "Number of finished trials: 50\n",
      "Best trial: {'n_estimators': 2000, 'reg_alpha': 2.1932499270244104, 'reg_lambda': 3.1834449128431275, 'colsample_bytree': 0.4, 'subsample': 0.8, 'learning_rate': 0.014, 'max_depth': 10, 'num_leaves': 39, 'min_child_samples': 116}\n"
     ]
    }
   ],
   "source": [
    "study = optuna.create_study(direction='minimize')\n",
    "objective = get_objective(X_train, X_val, y_train, y_val)\n",
    "study.optimize(objective, n_trials=50)\n",
    "print('Number of finished trials:', len(study.trials))\n",
    "print('Best trial:', study.best_trial.params)"
   ]
  },
  {
   "cell_type": "markdown",
   "id": "6199cee1",
   "metadata": {},
   "source": [
    "Let's create an LGBMRegresor with the best hyperparameters found in the previous study"
   ]
  },
  {
   "cell_type": "code",
   "execution_count": 32,
   "id": "cd289c10",
   "metadata": {},
   "outputs": [
    {
     "data": {
      "text/plain": [
       "{'n_estimators': 2000,\n",
       " 'reg_alpha': 2.1932499270244104,\n",
       " 'reg_lambda': 3.1834449128431275,\n",
       " 'colsample_bytree': 0.4,\n",
       " 'subsample': 0.8,\n",
       " 'learning_rate': 0.014,\n",
       " 'max_depth': 10,\n",
       " 'num_leaves': 39,\n",
       " 'min_child_samples': 116,\n",
       " 'random_state': 48,\n",
       " 'metric': 'rmse'}"
      ]
     },
     "execution_count": 32,
     "metadata": {},
     "output_type": "execute_result"
    }
   ],
   "source": [
    "params=study.best_params   \n",
    "params['random_state'] = 48\n",
    "params['metric'] = 'rmse'\n",
    "params"
   ]
  },
  {
   "cell_type": "code",
   "execution_count": 34,
   "id": "ccb99880",
   "metadata": {},
   "outputs": [],
   "source": [
    "model = LGBMRegressor(**params)\n",
    "model.fit(X_train,y_train)\n",
    "r2 = model.score(X_val, y_val)\n"
   ]
  },
  {
   "cell_type": "code",
   "execution_count": 35,
   "id": "8a82ca21",
   "metadata": {},
   "outputs": [
    {
     "name": "stdout",
     "output_type": "stream",
     "text": [
      "Light gbm r2 after hyper parameters tuning: 0.34828934506153364\n"
     ]
    }
   ],
   "source": [
    "r2 = model.score(X_val, y_val)\n",
    "print(f'Light gbm r2 after hyper parameters tuning: {r2}')"
   ]
  },
  {
   "cell_type": "markdown",
   "id": "fdcd229a",
   "metadata": {},
   "source": [
    "Fine tuning the hyperparameters of the model has greatly improved it r2, from 0.28 to 0.35. We save so model so that it can be used by the API and move to the test part"
   ]
  },
  {
   "cell_type": "markdown",
   "id": "0f150510",
   "metadata": {},
   "source": [
    "### Tests"
   ]
  },
  {
   "cell_type": "code",
   "execution_count": 36,
   "id": "b71efc95",
   "metadata": {},
   "outputs": [],
   "source": [
    "from src.model import load_model\n",
    "from src.train_model import eval_model"
   ]
  },
  {
   "cell_type": "code",
   "execution_count": 37,
   "id": "ed9a2ce0",
   "metadata": {},
   "outputs": [],
   "source": [
    "model = load_model('lgb')"
   ]
  },
  {
   "cell_type": "code",
   "execution_count": 39,
   "id": "6e1f0e1a",
   "metadata": {},
   "outputs": [
    {
     "data": {
      "text/plain": [
       "{'r2': 0.33630406990008166, 'rmse': 11606.626269252638, 'rmse_percent': 188.3}"
      ]
     },
     "execution_count": 39,
     "metadata": {},
     "output_type": "execute_result"
    }
   ],
   "source": [
    "result = eval_model(model)\n",
    "result"
   ]
  },
  {
   "cell_type": "markdown",
   "id": "735ce0a9",
   "metadata": {},
   "source": [
    "The test results are close to the validation results, which is positive. On the other hand the rmse is still too large at 188% of the average target variable value."
   ]
  },
  {
   "cell_type": "code",
   "execution_count": null,
   "id": "05a95523",
   "metadata": {},
   "outputs": [],
   "source": []
  }
 ],
 "metadata": {
  "kernelspec": {
   "display_name": "mansa",
   "language": "python",
   "name": "mansa"
  },
  "language_info": {
   "codemirror_mode": {
    "name": "ipython",
    "version": 3
   },
   "file_extension": ".py",
   "mimetype": "text/x-python",
   "name": "python",
   "nbconvert_exporter": "python",
   "pygments_lexer": "ipython3",
   "version": "3.9.12"
  }
 },
 "nbformat": 4,
 "nbformat_minor": 5
}