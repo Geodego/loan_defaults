{
 "cells": [
  {
   "cell_type": "markdown",
   "id": "1ee54a1c",
   "metadata": {},
   "source": [
    "# Mansa loans"
   ]
  },
  {
   "cell_type": "markdown",
   "id": "cfdd1d4e",
   "metadata": {},
   "source": [
    "## EDA"
   ]
  },
  {
   "cell_type": "markdown",
   "id": "bba4252d",
   "metadata": {},
   "source": [
    "We start by performing an EDA of the datasets."
   ]
  },
  {
   "cell_type": "code",
   "execution_count": 3,
   "id": "775cb7c2",
   "metadata": {},
   "outputs": [],
   "source": [
    "import pandas as pd\n",
    "from src.data_tools import get_data"
   ]
  },
  {
   "cell_type": "code",
   "execution_count": 4,
   "id": "e1e80ab3",
   "metadata": {},
   "outputs": [],
   "source": [
    "# read the csv files\n",
    "df_accounts = get_data(\"data/accounts.csv\")\n",
    "df_transactions = get_data(\"data/transactions.csv\")"
   ]
  },
  {
   "cell_type": "code",
   "execution_count": 5,
   "id": "5c8ef0c5",
   "metadata": {},
   "outputs": [
    {
     "data": {
      "text/html": [
       "<div>\n",
       "<style scoped>\n",
       "    .dataframe tbody tr th:only-of-type {\n",
       "        vertical-align: middle;\n",
       "    }\n",
       "\n",
       "    .dataframe tbody tr th {\n",
       "        vertical-align: top;\n",
       "    }\n",
       "\n",
       "    .dataframe thead th {\n",
       "        text-align: right;\n",
       "    }\n",
       "</style>\n",
       "<table border=\"1\" class=\"dataframe\">\n",
       "  <thead>\n",
       "    <tr style=\"text-align: right;\">\n",
       "      <th></th>\n",
       "      <th>id</th>\n",
       "      <th>balance</th>\n",
       "      <th>update_date</th>\n",
       "    </tr>\n",
       "  </thead>\n",
       "  <tbody>\n",
       "    <tr>\n",
       "      <th>0</th>\n",
       "      <td>0</td>\n",
       "      <td>13.63</td>\n",
       "      <td>2021-07-02</td>\n",
       "    </tr>\n",
       "    <tr>\n",
       "      <th>1</th>\n",
       "      <td>1</td>\n",
       "      <td>12.91</td>\n",
       "      <td>2021-07-02</td>\n",
       "    </tr>\n",
       "    <tr>\n",
       "      <th>2</th>\n",
       "      <td>2</td>\n",
       "      <td>19.84</td>\n",
       "      <td>2021-07-02</td>\n",
       "    </tr>\n",
       "    <tr>\n",
       "      <th>3</th>\n",
       "      <td>3</td>\n",
       "      <td>130.00</td>\n",
       "      <td>2021-07-02</td>\n",
       "    </tr>\n",
       "    <tr>\n",
       "      <th>4</th>\n",
       "      <td>4</td>\n",
       "      <td>2806.75</td>\n",
       "      <td>2021-07-02</td>\n",
       "    </tr>\n",
       "  </tbody>\n",
       "</table>\n",
       "</div>"
      ],
      "text/plain": [
       "   id  balance update_date\n",
       "0   0    13.63  2021-07-02\n",
       "1   1    12.91  2021-07-02\n",
       "2   2    19.84  2021-07-02\n",
       "3   3   130.00  2021-07-02\n",
       "4   4  2806.75  2021-07-02"
      ]
     },
     "execution_count": 5,
     "metadata": {},
     "output_type": "execute_result"
    }
   ],
   "source": [
    "df_accounts.head()"
   ]
  },
  {
   "cell_type": "code",
   "execution_count": 6,
   "id": "d31475fa",
   "metadata": {},
   "outputs": [
    {
     "data": {
      "text/html": [
       "<div>\n",
       "<style scoped>\n",
       "    .dataframe tbody tr th:only-of-type {\n",
       "        vertical-align: middle;\n",
       "    }\n",
       "\n",
       "    .dataframe tbody tr th {\n",
       "        vertical-align: top;\n",
       "    }\n",
       "\n",
       "    .dataframe thead th {\n",
       "        text-align: right;\n",
       "    }\n",
       "</style>\n",
       "<table border=\"1\" class=\"dataframe\">\n",
       "  <thead>\n",
       "    <tr style=\"text-align: right;\">\n",
       "      <th></th>\n",
       "      <th>account_id</th>\n",
       "      <th>date</th>\n",
       "      <th>amount</th>\n",
       "    </tr>\n",
       "  </thead>\n",
       "  <tbody>\n",
       "    <tr>\n",
       "      <th>0</th>\n",
       "      <td>0</td>\n",
       "      <td>2020-10-16</td>\n",
       "      <td>200.0</td>\n",
       "    </tr>\n",
       "    <tr>\n",
       "      <th>1</th>\n",
       "      <td>0</td>\n",
       "      <td>2020-10-16</td>\n",
       "      <td>-192.0</td>\n",
       "    </tr>\n",
       "    <tr>\n",
       "      <th>2</th>\n",
       "      <td>0</td>\n",
       "      <td>2020-10-16</td>\n",
       "      <td>200.0</td>\n",
       "    </tr>\n",
       "    <tr>\n",
       "      <th>3</th>\n",
       "      <td>0</td>\n",
       "      <td>2020-10-16</td>\n",
       "      <td>-24.0</td>\n",
       "    </tr>\n",
       "    <tr>\n",
       "      <th>4</th>\n",
       "      <td>0</td>\n",
       "      <td>2020-10-16</td>\n",
       "      <td>-50.0</td>\n",
       "    </tr>\n",
       "  </tbody>\n",
       "</table>\n",
       "</div>"
      ],
      "text/plain": [
       "   account_id       date  amount\n",
       "0           0 2020-10-16   200.0\n",
       "1           0 2020-10-16  -192.0\n",
       "2           0 2020-10-16   200.0\n",
       "3           0 2020-10-16   -24.0\n",
       "4           0 2020-10-16   -50.0"
      ]
     },
     "execution_count": 6,
     "metadata": {},
     "output_type": "execute_result"
    }
   ],
   "source": [
    "df_transactions.head()"
   ]
  },
  {
   "cell_type": "markdown",
   "id": "9519cc7f",
   "metadata": {},
   "source": [
    "#### Checking for null values"
   ]
  },
  {
   "cell_type": "code",
   "execution_count": 7,
   "id": "f944d3e9",
   "metadata": {},
   "outputs": [
    {
     "data": {
      "text/plain": [
       "id             False\n",
       "balance        False\n",
       "update_date    False\n",
       "dtype: bool"
      ]
     },
     "execution_count": 7,
     "metadata": {},
     "output_type": "execute_result"
    }
   ],
   "source": [
    "df_accounts.isna().any()"
   ]
  },
  {
   "cell_type": "code",
   "execution_count": 8,
   "id": "832d595b",
   "metadata": {},
   "outputs": [
    {
     "data": {
      "text/plain": [
       "account_id    False\n",
       "date          False\n",
       "amount        False\n",
       "dtype: bool"
      ]
     },
     "execution_count": 8,
     "metadata": {},
     "output_type": "execute_result"
    }
   ],
   "source": [
    "df_transactions.isna().any()"
   ]
  },
  {
   "cell_type": "markdown",
   "id": "2e9cd40d",
   "metadata": {},
   "source": [
    "There is no null value in any of the two datasets.\n"
   ]
  },
  {
   "cell_type": "markdown",
   "id": "45a37a15",
   "metadata": {},
   "source": [
    "#### Checking for duplicates"
   ]
  },
  {
   "cell_type": "code",
   "execution_count": 9,
   "id": "5439231a",
   "metadata": {},
   "outputs": [
    {
     "data": {
      "text/plain": [
       "False"
      ]
     },
     "execution_count": 9,
     "metadata": {},
     "output_type": "execute_result"
    }
   ],
   "source": [
    "df_accounts.duplicated().any()"
   ]
  },
  {
   "cell_type": "code",
   "execution_count": 10,
   "id": "cf215737",
   "metadata": {},
   "outputs": [
    {
     "data": {
      "text/plain": [
       "True"
      ]
     },
     "execution_count": 10,
     "metadata": {},
     "output_type": "execute_result"
    }
   ],
   "source": [
    "df_transactions.duplicated().any()"
   ]
  },
  {
   "cell_type": "markdown",
   "id": "3ad6cc5b",
   "metadata": {},
   "source": [
    "There are duplicates in the transactions. Lets look at some of them"
   ]
  },
  {
   "cell_type": "code",
   "execution_count": 11,
   "id": "403fd8ae",
   "metadata": {},
   "outputs": [
    {
     "name": "stdout",
     "output_type": "stream",
     "text": [
      "there are 28661 duplicates in transactions.csv, representing 5% of the data.\n"
     ]
    }
   ],
   "source": [
    "n_duplicated = df_transactions.duplicated().sum()\n",
    "dup_percent = int(n_duplicated / df_transactions.shape[0]*100)\n",
    "print(f'there are {n_duplicated} duplicates in transactions.csv, representing {dup_percent}% of the data.')"
   ]
  },
  {
   "cell_type": "code",
   "execution_count": 12,
   "id": "7567b882",
   "metadata": {},
   "outputs": [
    {
     "data": {
      "text/html": [
       "<div>\n",
       "<style scoped>\n",
       "    .dataframe tbody tr th:only-of-type {\n",
       "        vertical-align: middle;\n",
       "    }\n",
       "\n",
       "    .dataframe tbody tr th {\n",
       "        vertical-align: top;\n",
       "    }\n",
       "\n",
       "    .dataframe thead th {\n",
       "        text-align: right;\n",
       "    }\n",
       "</style>\n",
       "<table border=\"1\" class=\"dataframe\">\n",
       "  <thead>\n",
       "    <tr style=\"text-align: right;\">\n",
       "      <th></th>\n",
       "      <th>account_id</th>\n",
       "      <th>date</th>\n",
       "      <th>amount</th>\n",
       "    </tr>\n",
       "  </thead>\n",
       "  <tbody>\n",
       "    <tr>\n",
       "      <th>2</th>\n",
       "      <td>0</td>\n",
       "      <td>2020-10-16</td>\n",
       "      <td>200.0</td>\n",
       "    </tr>\n",
       "    <tr>\n",
       "      <th>11</th>\n",
       "      <td>0</td>\n",
       "      <td>2020-10-17</td>\n",
       "      <td>0.0</td>\n",
       "    </tr>\n",
       "    <tr>\n",
       "      <th>14</th>\n",
       "      <td>0</td>\n",
       "      <td>2020-10-19</td>\n",
       "      <td>0.0</td>\n",
       "    </tr>\n",
       "    <tr>\n",
       "      <th>23</th>\n",
       "      <td>0</td>\n",
       "      <td>2020-10-21</td>\n",
       "      <td>0.0</td>\n",
       "    </tr>\n",
       "    <tr>\n",
       "      <th>45</th>\n",
       "      <td>0</td>\n",
       "      <td>2020-10-29</td>\n",
       "      <td>-5.5</td>\n",
       "    </tr>\n",
       "  </tbody>\n",
       "</table>\n",
       "</div>"
      ],
      "text/plain": [
       "    account_id       date  amount\n",
       "2            0 2020-10-16   200.0\n",
       "11           0 2020-10-17     0.0\n",
       "14           0 2020-10-19     0.0\n",
       "23           0 2020-10-21     0.0\n",
       "45           0 2020-10-29    -5.5"
      ]
     },
     "execution_count": 12,
     "metadata": {},
     "output_type": "execute_result"
    }
   ],
   "source": [
    "df_dup = df_transactions[df_transactions.duplicated()]\n",
    "df_dup.head()"
   ]
  },
  {
   "cell_type": "code",
   "execution_count": 13,
   "id": "16153070",
   "metadata": {},
   "outputs": [
    {
     "data": {
      "text/html": [
       "<div>\n",
       "<style scoped>\n",
       "    .dataframe tbody tr th:only-of-type {\n",
       "        vertical-align: middle;\n",
       "    }\n",
       "\n",
       "    .dataframe tbody tr th {\n",
       "        vertical-align: top;\n",
       "    }\n",
       "\n",
       "    .dataframe thead th {\n",
       "        text-align: right;\n",
       "    }\n",
       "</style>\n",
       "<table border=\"1\" class=\"dataframe\">\n",
       "  <thead>\n",
       "    <tr style=\"text-align: right;\">\n",
       "      <th></th>\n",
       "      <th>account_id</th>\n",
       "      <th>date</th>\n",
       "      <th>amount</th>\n",
       "    </tr>\n",
       "  </thead>\n",
       "  <tbody>\n",
       "    <tr>\n",
       "      <th>0</th>\n",
       "      <td>0</td>\n",
       "      <td>2020-10-16</td>\n",
       "      <td>200.0</td>\n",
       "    </tr>\n",
       "    <tr>\n",
       "      <th>2</th>\n",
       "      <td>0</td>\n",
       "      <td>2020-10-16</td>\n",
       "      <td>200.0</td>\n",
       "    </tr>\n",
       "  </tbody>\n",
       "</table>\n",
       "</div>"
      ],
      "text/plain": [
       "   account_id       date  amount\n",
       "0           0 2020-10-16   200.0\n",
       "2           0 2020-10-16   200.0"
      ]
     },
     "execution_count": 13,
     "metadata": {},
     "output_type": "execute_result"
    }
   ],
   "source": [
    "df_transactions[\n",
    "    (df_transactions.account_id == 0) \n",
    "    & (df_transactions.date == '2020-10-16') \n",
    "    &(df_transactions.amount == 200.0)]"
   ]
  },
  {
   "cell_type": "markdown",
   "id": "417f5e4c",
   "metadata": {},
   "source": [
    "It is difficult, without further information if the above transactions are legitimate siilar transactions or duplicates coming from an error when the data were processed. We decide to keep these duplicates. It would be interesting to enrich the transactions data with a transaction id. We could be certain if a similar transaction on a given account and a given date is a duplicate or legitimate."
   ]
  },
  {
   "cell_type": "markdown",
   "id": "ea8d4bf4",
   "metadata": {},
   "source": [
    "#### Account history distribution"
   ]
  },
  {
   "cell_type": "markdown",
   "id": "f8d4921f",
   "metadata": {},
   "source": [
    "Let's check the history distribution of the different accounts in our data."
   ]
  },
  {
   "cell_type": "code",
   "execution_count": 14,
   "id": "f77054fd",
   "metadata": {},
   "outputs": [],
   "source": [
    "# we change the date column from str to datetime\n",
    "df_transactions['date'] = pd.to_datetime(df_transactions['date'])\n",
    "group = df_transactions.groupby('account_id')['date']"
   ]
  },
  {
   "cell_type": "code",
   "execution_count": 15,
   "id": "aeef24cd",
   "metadata": {},
   "outputs": [
    {
     "data": {
      "text/plain": [
       "account_id\n",
       "0   257 days\n",
       "1   231 days\n",
       "2   100 days\n",
       "3   176 days\n",
       "4   293 days\n",
       "dtype: timedelta64[ns]"
      ]
     },
     "execution_count": 15,
     "metadata": {},
     "output_type": "execute_result"
    }
   ],
   "source": [
    "history_df = group.agg([\"min\", \"max\"])\n",
    "history = history_df['max'] - history_df['min']\n",
    "history.head()"
   ]
  },
  {
   "cell_type": "code",
   "execution_count": 16,
   "id": "bd413a22",
   "metadata": {},
   "outputs": [
    {
     "name": "stdout",
     "output_type": "stream",
     "text": [
      "823 accounts, which represent 65% of all the accounts, have an history of more than 6 months\n"
     ]
    }
   ],
   "source": [
    "trigger = pd.Timedelta(180, \"d\")\n",
    "n_accounts = (history > trigger).sum()\n",
    "frac_long_account = int(n_accounts / len(history) * 100)\n",
    "print(f'{n_accounts} accounts, which represent {frac_long_account}% of all the accounts, have an history of more than 6 months')"
   ]
  },
  {
   "cell_type": "markdown",
   "id": "965dfe6d",
   "metadata": {},
   "source": [
    "We'll focus on the accounts with more than 6 months history. For that purpose we use get_df_with_history."
   ]
  },
  {
   "cell_type": "code",
   "execution_count": 17,
   "id": "052e660b",
   "metadata": {},
   "outputs": [],
   "source": [
    "from src.data_tools import get_df_with_history\n",
    "df_accounts, df_transactions = get_df_with_history(df_accounts, df_transactions)"
   ]
  },
  {
   "cell_type": "code",
   "execution_count": 28,
   "id": "8807f01e",
   "metadata": {},
   "outputs": [
    {
     "name": "stdout",
     "output_type": "stream",
     "text": [
      "We are left with 823 accounts in df_accounts and 823 in df_transactions which is as expected.\n"
     ]
    }
   ],
   "source": [
    "n_transac = len(set(df_transactions['account_id']))\n",
    "print(f'We are left with {len(df_accounts)} accounts in df_accounts and {n_transac} in df_transactions which is as expected.')"
   ]
  },
  {
   "cell_type": "code",
   "execution_count": 25,
   "id": "3cf37afd",
   "metadata": {},
   "outputs": [
    {
     "ename": "SyntaxError",
     "evalue": "invalid syntax (<ipython-input-25-8e464d705049>, line 1)",
     "output_type": "error",
     "traceback": [
      "\u001b[0;36m  File \u001b[0;32m\"<ipython-input-25-8e464d705049>\"\u001b[0;36m, line \u001b[0;32m1\u001b[0m\n\u001b[0;31m    f'{len(set(df_transactions['account_id']))}'\u001b[0m\n\u001b[0m                                ^\u001b[0m\n\u001b[0;31mSyntaxError\u001b[0m\u001b[0;31m:\u001b[0m invalid syntax\n"
     ]
    }
   ],
   "source": []
  },
  {
   "cell_type": "code",
   "execution_count": null,
   "id": "6ebbf9e6",
   "metadata": {},
   "outputs": [],
   "source": []
  }
 ],
 "metadata": {
  "kernelspec": {
   "display_name": "udacity",
   "language": "python",
   "name": "udacity"
  },
  "language_info": {
   "codemirror_mode": {
    "name": "ipython",
    "version": 3
   },
   "file_extension": ".py",
   "mimetype": "text/x-python",
   "name": "python",
   "nbconvert_exporter": "python",
   "pygments_lexer": "ipython3",
   "version": "3.8.12"
  }
 },
 "nbformat": 4,
 "nbformat_minor": 5
}
